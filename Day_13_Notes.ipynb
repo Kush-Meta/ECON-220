{
 "cells": [
  {
   "cell_type": "markdown",
   "id": "6d4f9586-5c4a-4e06-b770-74a642cffa7f",
   "metadata": {},
   "source": [
    "<h1 style='text-align: center; color: Purple;'>The effects of taking selfies on Happiness</h1>\n",
    "<h2 style='text-align: center; color: green'> Author: A good looking pythonista</h2>"
   ]
  },
  {
   "cell_type": "markdown",
   "id": "f329ea68-d5e0-4224-9d2c-db52f648980e",
   "metadata": {},
   "source": [
    "<img src= 'https://static.boredpanda.com/blog/wp-content/uploads/2015/12/funny-animal-selfies-allan-dixon-13.jpg' width=400 />"
   ]
  },
  {
   "cell_type": "markdown",
   "id": "a1a7b729-2204-4092-afc7-4ec241e6f0a5",
   "metadata": {},
   "source": [
    "### <font color='royal blue'> Abstract</font>\n",
    "***Backgrounds*** This paper investigates whether taking selfies makes people happy. \n",
    "***Methods*** We use linear regression\n",
    "\n",
    "*findings*\n",
    "- Taking selfies makes people happy.\n",
    "- Taking selfies while smiling makes people even happier."
   ]
  },
  {
   "cell_type": "markdown",
   "id": "9401043c-6ac2-4164-b124-6914e394f597",
   "metadata": {},
   "source": [
    "### Table of Contents\n",
    "* [Introdcution](#anchor1)\n",
    "* [Literature Review](#anchor2)\n",
    "* [Method](#anchor3)\n",
    "* [Conclusion](#anchor4)\n",
    "* [Bonus Section](#anchor5)"
   ]
  },
  {
   "cell_type": "markdown",
   "id": "42ef0c38-a987-4991-9e0b-246fe06bbe2d",
   "metadata": {},
   "source": [
    "<a class= 'anchor' id='anchor1'></a>\n",
    "## Introduction\n",
    "Many people, especially college students, live under stress. We want to find ways to make them happy. "
   ]
  },
  {
   "cell_type": "markdown",
   "id": "31c8dd36-bf81-454a-8e45-31012c5e2714",
   "metadata": {},
   "source": [
    "<a class= 'anchor' id='anchor2'></a>\n",
    "## Literature Review\n",
    "1. Effects of taking selfies\n",
    "    - Positive\n",
    "2. Effects of taking selfies with a pet\n",
    "    - Extra Positive"
   ]
  },
  {
   "cell_type": "markdown",
   "id": "8449bda0-5542-434a-81fa-8bec25f4f209",
   "metadata": {},
   "source": [
    "<a class= 'anchor' id='anchor3'></a>\n",
    "## Method\n",
    "\n",
    "$ y = ax + bz^2 + \\alpha$\n",
    "\n",
    "$ y = a\\sqrt{x_1} + \\frac{x_2}{2} + \\delta $"
   ]
  },
  {
   "cell_type": "markdown",
   "id": "ae380d9b-fc9f-430d-be25-b49d69eb8c60",
   "metadata": {},
   "source": [
    "<a class= 'anchor' id='anchor4'></a>\n",
    "## Conclusion \n",
    "Taking selfies while smiling with a beaver maximises people's happiness."
   ]
  },
  {
   "cell_type": "markdown",
   "id": "32fe6412-c876-4798-a575-eb1c233c7e88",
   "metadata": {},
   "source": [
    "<a class= 'anchor' id='anchor5'></a>\n",
    "## Bonus\n",
    "- Draw something fun"
   ]
  },
  {
   "cell_type": "code",
   "execution_count": 25,
   "id": "92c1cfd7-e6a5-44f8-97d5-c509d5932ac2",
   "metadata": {},
   "outputs": [
    {
     "ename": "AttributeError",
     "evalue": "'Turtle' object has no attribute 'and_fill'",
     "output_type": "error",
     "traceback": [
      "\u001b[0;31m---------------------------------------------------------------------------\u001b[0m",
      "\u001b[0;31mAttributeError\u001b[0m                            Traceback (most recent call last)",
      "Cell \u001b[0;32mIn[25], line 30\u001b[0m\n\u001b[1;32m     28\u001b[0m pen\u001b[38;5;241m.\u001b[39msetpos(\u001b[38;5;241m-\u001b[39m\u001b[38;5;241m60\u001b[39m, \u001b[38;5;241m100\u001b[39m)\n\u001b[1;32m     29\u001b[0m \u001b[38;5;66;03m# End drawing \u001b[39;00m\n\u001b[0;32m---> 30\u001b[0m pen\u001b[38;5;241m.\u001b[39mand_fill()\n\u001b[1;32m     31\u001b[0m \u001b[38;5;66;03m# Add texts to decorate turtle's home \u001b[39;00m\n\u001b[1;32m     32\u001b[0m \u001b[38;5;28;01mdef\u001b[39;00m \u001b[38;5;21mtxt\u001b[39m():\n",
      "\u001b[0;31mAttributeError\u001b[0m: 'Turtle' object has no attribute 'and_fill'"
     ]
    }
   ],
   "source": [
    "# Ask a turtle to help you draw something \n",
    "import turtle as t\n",
    "# Use turtle's pen \n",
    "pen = t.Turtle()\n",
    "# Set the color of canvas \n",
    "t.bgcolor('cornflower blue')\n",
    "# Set color of pen \n",
    "pen.color('misty rose')\n",
    "# Start drawing \n",
    "pen.begin_fill()\n",
    "# By default, turtle starts by viewing right. Now tell turtle to turn left by 40 degrees \n",
    "pen.left(40)\n",
    "# Move forward by 120 units \n",
    "pen.forward(120)\n",
    "# Draw an arc with radius of 80, length of 190\n",
    "pen.circle(80, 190)\n",
    "# Turn right by 100 degree \n",
    "pen.right(100)\n",
    "# Draw another arc with radius of 80, length of 180 \n",
    "pen.circle(80, 180)\n",
    "# Turtle goes home: move forward by 160 \n",
    "pen.forward(160)\n",
    "# Turn left by 90 degrees\n",
    "pen.left(90)\n",
    "# Forward by 50 units \n",
    "pen.forward(50)\n",
    "# Home:\n",
    "pen.setpos(-60, 100)\n",
    "# End drawing \n",
    "pen.and_fill()\n",
    "# Add texts to decorate turtle's home \n",
    "def txt():\n",
    "    pen.up()\n",
    "    pen.setpos(-60,100)\n",
    "    pen.color('red')\n",
    "    pen.write('I love python', font=('Comic Sans MS', 16))\n",
    "txt()\n",
    "# Exit\n",
    "t.exitonclick()"
   ]
  }
 ],
 "metadata": {
  "kernelspec": {
   "display_name": "Python 3 (ipykernel)",
   "language": "python",
   "name": "python3"
  },
  "language_info": {
   "codemirror_mode": {
    "name": "ipython",
    "version": 3
   },
   "file_extension": ".py",
   "mimetype": "text/x-python",
   "name": "python",
   "nbconvert_exporter": "python",
   "pygments_lexer": "ipython3",
   "version": "3.12.4"
  }
 },
 "nbformat": 4,
 "nbformat_minor": 5
}

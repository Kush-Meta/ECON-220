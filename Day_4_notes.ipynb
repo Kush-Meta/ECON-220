{
 "cells": [
  {
   "cell_type": "code",
   "execution_count": 2,
   "id": "89674471-c9f7-4cde-8319-0f4f77bf8969",
   "metadata": {},
   "outputs": [
    {
     "name": "stdout",
     "output_type": "stream",
     "text": [
      "/Users/kush/Python\n"
     ]
    }
   ],
   "source": [
    "import os\n",
    "path = os.getcwd()\n",
    "print(path)"
   ]
  },
  {
   "cell_type": "code",
   "execution_count": 4,
   "id": "753fe4e5-ced5-49b4-98c2-efd5988c93c9",
   "metadata": {},
   "outputs": [],
   "source": [
    "# Import necessary packages\n",
    "import numpy as np\n",
    "import pandas as pd"
   ]
  },
  {
   "cell_type": "code",
   "execution_count": 10,
   "id": "67ef23cd-e943-492d-91a5-7929deb49966",
   "metadata": {},
   "outputs": [
    {
     "data": {
      "text/html": [
       "<div>\n",
       "<style scoped>\n",
       "    .dataframe tbody tr th:only-of-type {\n",
       "        vertical-align: middle;\n",
       "    }\n",
       "\n",
       "    .dataframe tbody tr th {\n",
       "        vertical-align: top;\n",
       "    }\n",
       "\n",
       "    .dataframe thead th {\n",
       "        text-align: right;\n",
       "    }\n",
       "</style>\n",
       "<table border=\"1\" class=\"dataframe\">\n",
       "  <thead>\n",
       "    <tr style=\"text-align: right;\">\n",
       "      <th></th>\n",
       "      <th>year</th>\n",
       "      <th>sex</th>\n",
       "      <th>gender_ident</th>\n",
       "      <th>age</th>\n",
       "      <th>Ethnicity</th>\n",
       "      <th>Country</th>\n",
       "      <th>State</th>\n",
       "      <th>GPA</th>\n",
       "      <th>SAT</th>\n",
       "      <th>HSGPA</th>\n",
       "      <th>...</th>\n",
       "      <th>q67</th>\n",
       "      <th>q68</th>\n",
       "      <th>q69</th>\n",
       "      <th>q70</th>\n",
       "      <th>q71</th>\n",
       "      <th>q72</th>\n",
       "      <th>q73</th>\n",
       "      <th>q74</th>\n",
       "      <th>q75</th>\n",
       "      <th>q76</th>\n",
       "    </tr>\n",
       "  </thead>\n",
       "  <tbody>\n",
       "    <tr>\n",
       "      <th>0</th>\n",
       "      <td>5</td>\n",
       "      <td>Male</td>\n",
       "      <td>Male</td>\n",
       "      <td>22</td>\n",
       "      <td>More than one race.</td>\n",
       "      <td>Costa Rica</td>\n",
       "      <td>INT</td>\n",
       "      <td>3.5</td>\n",
       "      <td>31</td>\n",
       "      <td>3.49</td>\n",
       "      <td>...</td>\n",
       "      <td>Yes</td>\n",
       "      <td>10000</td>\n",
       "      <td>25.0</td>\n",
       "      <td>3.0</td>\n",
       "      <td>0.0</td>\n",
       "      <td>Off</td>\n",
       "      <td>3</td>\n",
       "      <td>4</td>\n",
       "      <td>20</td>\n",
       "      <td>9.0</td>\n",
       "    </tr>\n",
       "    <tr>\n",
       "      <th>1</th>\n",
       "      <td>5</td>\n",
       "      <td>Male</td>\n",
       "      <td>Male</td>\n",
       "      <td>22</td>\n",
       "      <td>More than one race.</td>\n",
       "      <td>United States</td>\n",
       "      <td>WASHINGTON</td>\n",
       "      <td>3.35</td>\n",
       "      <td>1340</td>\n",
       "      <td>3.9</td>\n",
       "      <td>...</td>\n",
       "      <td>Yes</td>\n",
       "      <td>20000</td>\n",
       "      <td>12.0</td>\n",
       "      <td>2.0</td>\n",
       "      <td>12000.0</td>\n",
       "      <td>On</td>\n",
       "      <td>7</td>\n",
       "      <td>3</td>\n",
       "      <td>12</td>\n",
       "      <td>10.0</td>\n",
       "    </tr>\n",
       "    <tr>\n",
       "      <th>2</th>\n",
       "      <td>Senior</td>\n",
       "      <td>Male</td>\n",
       "      <td>Male</td>\n",
       "      <td>22</td>\n",
       "      <td>Asian</td>\n",
       "      <td>India</td>\n",
       "      <td>Maharashtra</td>\n",
       "      <td>3.3</td>\n",
       "      <td>1400</td>\n",
       "      <td>3.3</td>\n",
       "      <td>...</td>\n",
       "      <td>Yes</td>\n",
       "      <td>$5,000</td>\n",
       "      <td>6.0</td>\n",
       "      <td>3.0</td>\n",
       "      <td>0.0</td>\n",
       "      <td>Off</td>\n",
       "      <td>1</td>\n",
       "      <td>2</td>\n",
       "      <td>2 /month\\n\\n8</td>\n",
       "      <td>7.0</td>\n",
       "    </tr>\n",
       "    <tr>\n",
       "      <th>3</th>\n",
       "      <td>4</td>\n",
       "      <td>Female</td>\n",
       "      <td>Female</td>\n",
       "      <td>21</td>\n",
       "      <td>Asian</td>\n",
       "      <td>United States</td>\n",
       "      <td>Georgia</td>\n",
       "      <td>3.6</td>\n",
       "      <td>1540</td>\n",
       "      <td>4</td>\n",
       "      <td>...</td>\n",
       "      <td>Yes</td>\n",
       "      <td>2000</td>\n",
       "      <td>2.0</td>\n",
       "      <td>2.0</td>\n",
       "      <td>10000.0</td>\n",
       "      <td>Off</td>\n",
       "      <td>7</td>\n",
       "      <td>1</td>\n",
       "      <td>2</td>\n",
       "      <td>1.0</td>\n",
       "    </tr>\n",
       "    <tr>\n",
       "      <th>4</th>\n",
       "      <td>3</td>\n",
       "      <td>Male</td>\n",
       "      <td>Male</td>\n",
       "      <td>23</td>\n",
       "      <td>Asian</td>\n",
       "      <td>Korea</td>\n",
       "      <td>INT</td>\n",
       "      <td>3.5</td>\n",
       "      <td>1360</td>\n",
       "      <td>3.7</td>\n",
       "      <td>...</td>\n",
       "      <td>Yes</td>\n",
       "      <td>20000</td>\n",
       "      <td>16.0</td>\n",
       "      <td>3.0</td>\n",
       "      <td>0.0</td>\n",
       "      <td>Off</td>\n",
       "      <td>0</td>\n",
       "      <td>0</td>\n",
       "      <td>10</td>\n",
       "      <td>5.0</td>\n",
       "    </tr>\n",
       "  </tbody>\n",
       "</table>\n",
       "<p>5 rows × 76 columns</p>\n",
       "</div>"
      ],
      "text/plain": [
       "     year     sex gender_ident  age            Ethnicity        Country  \\\n",
       "0       5    Male         Male   22  More than one race.     Costa Rica   \n",
       "1       5    Male         Male   22  More than one race.  United States   \n",
       "2  Senior    Male         Male  22                 Asian          India   \n",
       "3       4  Female       Female   21                Asian  United States   \n",
       "4       3    Male         Male   23                Asian          Korea   \n",
       "\n",
       "         State   GPA   SAT HSGPA  ...  q67      q68   q69  q70      q71  q72  \\\n",
       "0          INT   3.5    31  3.49  ...  Yes    10000  25.0  3.0      0.0  Off   \n",
       "1   WASHINGTON  3.35  1340   3.9  ...  Yes    20000  12.0  2.0  12000.0   On   \n",
       "2  Maharashtra   3.3  1400   3.3  ...  Yes  $5,000    6.0  3.0      0.0  Off   \n",
       "3     Georgia    3.6  1540     4  ...  Yes     2000   2.0  2.0  10000.0  Off   \n",
       "4          INT   3.5  1360   3.7  ...  Yes    20000  16.0  3.0      0.0  Off   \n",
       "\n",
       "   q73  q74            q75   q76  \n",
       "0    3    4             20   9.0  \n",
       "1    7    3             12  10.0  \n",
       "2    1    2  2 /month\\n\\n8   7.0  \n",
       "3    7    1              2   1.0  \n",
       "4    0    0             10   5.0  \n",
       "\n",
       "[5 rows x 76 columns]"
      ]
     },
     "execution_count": 10,
     "metadata": {},
     "output_type": "execute_result"
    }
   ],
   "source": [
    "# Import data; I store my data in the folder \"Data\", so I have to add it to the path\n",
    "data = pd.read_csv(\"/Users/kush/Data/StudentSurvey.csv\")\n",
    "data.head()"
   ]
  },
  {
   "cell_type": "code",
   "execution_count": 12,
   "id": "525d0de8-99a5-438a-ac7c-962712ed8ee3",
   "metadata": {},
   "outputs": [
    {
     "name": "stdout",
     "output_type": "stream",
     "text": [
      "<class 'pandas.core.frame.DataFrame'>\n",
      "RangeIndex: 101 entries, 0 to 100\n",
      "Data columns (total 76 columns):\n",
      " #   Column        Non-Null Count  Dtype  \n",
      "---  ------        --------------  -----  \n",
      " 0   year          100 non-null    object \n",
      " 1   sex           101 non-null    object \n",
      " 2   gender_ident  101 non-null    object \n",
      " 3   age           100 non-null    object \n",
      " 4   Ethnicity     101 non-null    object \n",
      " 5   Country       100 non-null    object \n",
      " 6   State         100 non-null    object \n",
      " 7   GPA           100 non-null    object \n",
      " 8   SAT           98 non-null     object \n",
      " 9   HSGPA         99 non-null     object \n",
      " 10  Income        101 non-null    object \n",
      " 11  Siblings      100 non-null    float64\n",
      " 12  BirthOrder    97 non-null     object \n",
      " 13  Major         100 non-null    object \n",
      " 14  q15           98 non-null     object \n",
      " 15  q16           101 non-null    object \n",
      " 16  q17           100 non-null    float64\n",
      " 17  q18           100 non-null    float64\n",
      " 18  q19           100 non-null    float64\n",
      " 19  q20           100 non-null    object \n",
      " 20  q21           100 non-null    object \n",
      " 21  q22           100 non-null    object \n",
      " 22  q23           100 non-null    object \n",
      " 23  q24           100 non-null    object \n",
      " 24  q25           100 non-null    object \n",
      " 25  q26           100 non-null    object \n",
      " 26  q27           100 non-null    object \n",
      " 27  q28           100 non-null    object \n",
      " 28  q29           100 non-null    object \n",
      " 29  q30           100 non-null    object \n",
      " 30  q31           100 non-null    object \n",
      " 31  q32           100 non-null    float64\n",
      " 32  q33           100 non-null    float64\n",
      " 33  q34           100 non-null    object \n",
      " 34  q35           100 non-null    object \n",
      " 35  q36           99 non-null     object \n",
      " 36  q37           100 non-null    object \n",
      " 37  q38           100 non-null    float64\n",
      " 38  q39           101 non-null    int64  \n",
      " 39  q40           101 non-null    int64  \n",
      " 40  q41           100 non-null    float64\n",
      " 41  q42           101 non-null    int64  \n",
      " 42  q43           100 non-null    object \n",
      " 43  q44           101 non-null    int64  \n",
      " 44  q45           101 non-null    int64  \n",
      " 45  q46           101 non-null    int64  \n",
      " 46  q47           101 non-null    int64  \n",
      " 47  q48           100 non-null    object \n",
      " 48  q49           100 non-null    object \n",
      " 49  q50           100 non-null    object \n",
      " 50  q51           101 non-null    object \n",
      " 51  q52           100 non-null    object \n",
      " 52  q53           100 non-null    object \n",
      " 53  q54           101 non-null    int64  \n",
      " 54  q55           100 non-null    object \n",
      " 55  q56           100 non-null    float64\n",
      " 56  q57           101 non-null    object \n",
      " 57  q58           100 non-null    object \n",
      " 58  q59           100 non-null    object \n",
      " 59  q60           101 non-null    object \n",
      " 60  q61           100 non-null    object \n",
      " 61  q62           100 non-null    float64\n",
      " 62  q63           101 non-null    object \n",
      " 63  q64           101 non-null    object \n",
      " 64  q65           101 non-null    object \n",
      " 65  q66           101 non-null    object \n",
      " 66  q67           101 non-null    object \n",
      " 67  q68           100 non-null    object \n",
      " 68  q69           100 non-null    float64\n",
      " 69  q70           100 non-null    float64\n",
      " 70  q71           100 non-null    float64\n",
      " 71  q72           101 non-null    object \n",
      " 72  q73           101 non-null    int64  \n",
      " 73  q74           101 non-null    int64  \n",
      " 74  q75           100 non-null    object \n",
      " 75  q76           100 non-null    float64\n",
      "dtypes: float64(14), int64(10), object(52)\n",
      "memory usage: 60.1+ KB\n"
     ]
    }
   ],
   "source": [
    "data.info()"
   ]
  },
  {
   "cell_type": "markdown",
   "id": "d8c98766-2b85-4b58-9dd5-de468dd06f71",
   "metadata": {},
   "source": [
    "# Replace Values\n",
    "- value_counts()\n",
    "- replace()\n",
    "- astype()"
   ]
  },
  {
   "cell_type": "code",
   "execution_count": 16,
   "id": "9069ad1a-cb17-4435-904c-5ca94d041554",
   "metadata": {},
   "outputs": [
    {
     "data": {
      "text/plain": [
       "age\n",
       "20                37\n",
       "19                24\n",
       "21                21\n",
       "18                 4\n",
       "22                 3\n",
       "23                 2\n",
       "22                 1\n",
       " 23                1\n",
       "24                 1\n",
       " 21                1\n",
       " 20                1\n",
       "21                 1\n",
       "18  y              1\n",
       "19                 1\n",
       "19 years old.      1\n",
       "NaN                1\n",
       "Name: count, dtype: int64"
      ]
     },
     "execution_count": 16,
     "metadata": {},
     "output_type": "execute_result"
    }
   ],
   "source": [
    "### Variable : age \n",
    "# Inspect Variable \n",
    "data['age'].value_counts(dropna=False)\n"
   ]
  },
  {
   "cell_type": "code",
   "execution_count": 28,
   "id": "7f5a99d3-3862-4da9-9c75-5f58da9b5504",
   "metadata": {},
   "outputs": [
    {
     "data": {
      "text/plain": [
       "age\n",
       "20     38\n",
       "19     26\n",
       "21     23\n",
       "18      5\n",
       "22      4\n",
       "23      3\n",
       "24      1\n",
       "NaN     1\n",
       "Name: count, dtype: int64"
      ]
     },
     "execution_count": 28,
     "metadata": {},
     "output_type": "execute_result"
    }
   ],
   "source": [
    "# Remove spaces \n",
    "data['age'] = data['age'].str.strip()\n",
    "# Replace \"18 y\"\n",
    "data['age'] = data['age'].replace('18  y','18')\n",
    "# Replace \"19 years old\"\n",
    "data['age'] = data['age'].replace('19 years old.','19')\n",
    "# Check \n",
    "data['age'].value_counts(dropna = False)"
   ]
  },
  {
   "cell_type": "code",
   "execution_count": 32,
   "id": "c78c1e42-1703-4488-8ec5-80c5c87facab",
   "metadata": {},
   "outputs": [
    {
     "data": {
      "text/plain": [
       "dtype('float64')"
      ]
     },
     "execution_count": 32,
     "metadata": {},
     "output_type": "execute_result"
    }
   ],
   "source": [
    "# Convert variable from string to float\n",
    "data['age'] = data['age'].astype('float')\n",
    "data['age'].dtypes"
   ]
  },
  {
   "cell_type": "code",
   "execution_count": 34,
   "id": "359ab86a-f94b-4789-a6f8-6c854f63687f",
   "metadata": {},
   "outputs": [
    {
     "data": {
      "text/plain": [
       "GPA\n",
       "3.7                                     13\n",
       "3.5                                     10\n",
       "3.6                                      8\n",
       "3.8                                      7\n",
       "4                                        7\n",
       "3.9                                      5\n",
       "3.97                                     4\n",
       "3.76                                     2\n",
       "3                                        2\n",
       "3.95                                     2\n",
       "3.4                                      2\n",
       "3.92                                     2\n",
       "3.65                                     2\n",
       "3.83                                     2\n",
       "3.87                                     2\n",
       "3.3                                      2\n",
       "3.906                                    1\n",
       "3.93                                     1\n",
       "3.29                                     1\n",
       "3.5                                      1\n",
       "3.96                                     1\n",
       "3,94                                     1\n",
       "3.41                                     1\n",
       "3.82                                     1\n",
       "3.85                                     1\n",
       "3.86                                     1\n",
       "NaN                                      1\n",
       "3.786                                    1\n",
       "3,85                                     1\n",
       "2.5                                      1\n",
       "3.69                                     1\n",
       "3.3, 3.98                                1\n",
       "3.53                                     1\n",
       "3.35                                     1\n",
       "3.99                                     1\n",
       "3.94                                     1\n",
       "2.89                                     1\n",
       "3.1                                      1\n",
       "3.73                                     1\n",
       "3.2                                      1\n",
       "2.7                                      1\n",
       "3,1                                      1\n",
       "2.93                                     1\n",
       "3.76\\n\\nDon't have a high school GPA     1\n",
       "3.78                                     1\n",
       "Name: count, dtype: int64"
      ]
     },
     "execution_count": 34,
     "metadata": {},
     "output_type": "execute_result"
    }
   ],
   "source": [
    "### Variable: GPA\n",
    "# Inspect\n",
    "data['GPA'].value_counts(dropna=False)"
   ]
  },
  {
   "cell_type": "code",
   "execution_count": 54,
   "id": "71024504-8847-48c6-9f82-c1c4f05f2796",
   "metadata": {},
   "outputs": [
    {
     "data": {
      "text/plain": [
       "GPA\n",
       "3.7      13\n",
       "3.5      10\n",
       "3.6       8\n",
       "3.8       7\n",
       "4         7\n",
       "3.9       5\n",
       "3.97      4\n",
       "3.76      3\n",
       "3.92      2\n",
       "3.87      2\n",
       "3.95      2\n",
       "3.83      2\n",
       "3         2\n",
       "3.94      2\n",
       "3.85      2\n",
       "3.65      2\n",
       "3.1       2\n",
       "3.4       2\n",
       "3.3       2\n",
       "NaN       1\n",
       "3.5       1\n",
       "3.96      1\n",
       "3.82      1\n",
       "3.41      1\n",
       "3.29      1\n",
       "3.93      1\n",
       "3.86      1\n",
       "3.786     1\n",
       "2.5       1\n",
       "3.906     1\n",
       "3.69      1\n",
       "3.64      1\n",
       "3.53      1\n",
       "3.35      1\n",
       "3.99      1\n",
       "2.89      1\n",
       "3.73      1\n",
       "3.2       1\n",
       "2.7       1\n",
       "2.93      1\n",
       "3.78      1\n",
       "Name: count, dtype: int64"
      ]
     },
     "execution_count": 54,
     "metadata": {},
     "output_type": "execute_result"
    }
   ],
   "source": [
    "#Replace \"3.3, 3.98\"\n",
    "data['GPA'] = data['GPA'].replace('3.3, 3.98','3.64')\n",
    "# Check \n",
    "data['GPA'].value_counts(dropna = False)\n",
    "#Replace \",\" with a \".\"\n",
    "# Because ',' is within strings, to replace, we need to add \"regex=True\"\n",
    "# Safe to add in most cases\n",
    "data['GPA'] = data['GPA'].replace(',','.', regex=True)\n",
    "# Check \n",
    "data['GPA'].value_counts(dropna = False)\n",
    "\n",
    "data['GPA'] = data['GPA'].replace(\"3.76\\n\\nDon't have a high school GPA\",\"3.76\", regex=True)\n",
    "# Check \n",
    "data['GPA'].value_counts(dropna = False)\n",
    "\n"
   ]
  },
  {
   "cell_type": "code",
   "execution_count": 56,
   "id": "876f3cfc-7f00-411d-a2e9-a368c06730dc",
   "metadata": {},
   "outputs": [
    {
     "data": {
      "text/plain": [
       "dtype('float64')"
      ]
     },
     "execution_count": 56,
     "metadata": {},
     "output_type": "execute_result"
    }
   ],
   "source": [
    "# Convert variable from string to float\n",
    "data['GPA'] = data['GPA'].astype('float')\n",
    "data['GPA'].dtypes"
   ]
  },
  {
   "cell_type": "markdown",
   "id": "e9dafb2d-5ade-4c43-9cb7-a60c4983a45f",
   "metadata": {},
   "source": [
    "### Drop Observations \n",
    "- Some observations do not make sence \n",
    "- Restrict sample according to some criteria"
   ]
  },
  {
   "cell_type": "code",
   "execution_count": 69,
   "id": "409203c9-8f13-45f5-8592-35791145f956",
   "metadata": {},
   "outputs": [
    {
     "data": {
      "text/plain": [
       "q29\n",
       "7         40\n",
       "6         24\n",
       "8         21\n",
       "5          5\n",
       "9          4\n",
       "4          1\n",
       "10         1\n",
       "10-Jun     1\n",
       "6.5        1\n",
       "7.5        1\n",
       "8.5        1\n",
       "NaN        1\n",
       "Name: count, dtype: int64"
      ]
     },
     "execution_count": 69,
     "metadata": {},
     "output_type": "execute_result"
    }
   ],
   "source": [
    "### Variable: q29 - hours of sleep a day\n",
    "# Inspect\n",
    "data['q29'].value_counts(dropna=False)"
   ]
  },
  {
   "cell_type": "code",
   "execution_count": 73,
   "id": "2c449948-6208-4c04-865c-334eb770ad80",
   "metadata": {},
   "outputs": [
    {
     "data": {
      "text/plain": [
       "q29\n",
       "7      40\n",
       "6      24\n",
       "8      21\n",
       "5       5\n",
       "9       4\n",
       "4       1\n",
       "10      1\n",
       "6.5     1\n",
       "7.5     1\n",
       "8.5     1\n",
       "NaN     1\n",
       "Name: count, dtype: int64"
      ]
     },
     "execution_count": 73,
     "metadata": {},
     "output_type": "execute_result"
    }
   ],
   "source": [
    "# Drop '10-Jun' observation \n",
    "strange = data[data['q29']=='10-Jun']\n",
    "data = data.drop(strange.index)\n",
    "# Check \n",
    "data['q29'].value_counts(dropna=False)"
   ]
  },
  {
   "cell_type": "code",
   "execution_count": 75,
   "id": "e8853cc3-9d41-4dce-bb86-1dabeef2a0db",
   "metadata": {},
   "outputs": [],
   "source": [
    "# Inspect \n",
    "data['q70'].value_counts=False"
   ]
  }
 ],
 "metadata": {
  "kernelspec": {
   "display_name": "Python 3 (ipykernel)",
   "language": "python",
   "name": "python3"
  },
  "language_info": {
   "codemirror_mode": {
    "name": "ipython",
    "version": 3
   },
   "file_extension": ".py",
   "mimetype": "text/x-python",
   "name": "python",
   "nbconvert_exporter": "python",
   "pygments_lexer": "ipython3",
   "version": "3.12.4"
  }
 },
 "nbformat": 4,
 "nbformat_minor": 5
}

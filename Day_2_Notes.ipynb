{
 "cells": [
  {
   "cell_type": "markdown",
   "id": "17b0e140-b16d-411f-88bd-7c1e629d358a",
   "metadata": {},
   "source": [
    "# Day 2: Numpy and Pandas\n",
    "## Author: Kush Mehta"
   ]
  },
  {
   "cell_type": "code",
   "execution_count": 6,
   "id": "d9de425c-a872-4b61-b834-0cd04882d99c",
   "metadata": {},
   "outputs": [],
   "source": [
    "# Import packages\n",
    "import numpy as np\n",
    "import pandas as pd"
   ]
  },
  {
   "cell_type": "markdown",
   "id": "61a21f5b-3d73-4187-bf2d-70025e51fe35",
   "metadata": {},
   "source": [
    "### Numpy: \n",
    "#### Do scientific Computing"
   ]
  },
  {
   "cell_type": "code",
   "execution_count": 8,
   "id": "e45005ce-2a18-49e0-b1a6-d9383c673065",
   "metadata": {},
   "outputs": [
    {
     "name": "stdout",
     "output_type": "stream",
     "text": [
      "[0. 0. 0. 1. 0. 0. 0. 0. 0. 0.]\n"
     ]
    }
   ],
   "source": [
    "# Null Vector of size 10 but 4th value is 1\n",
    "V1 = np.zeros(10)\n",
    "V1[3] = 1\n",
    "print(V1)"
   ]
  },
  {
   "cell_type": "code",
   "execution_count": 14,
   "id": "e797f6cb-24e9-444e-8a50-f66309ac3bb5",
   "metadata": {},
   "outputs": [
    {
     "name": "stdout",
     "output_type": "stream",
     "text": [
      "[10 11 12 13 14 15 16 17 18 19 20]\n"
     ]
    }
   ],
   "source": [
    "# Vector with values from 10 to 20 \n",
    "V2 = np.arange(10,21)\n",
    "print(V2)"
   ]
  },
  {
   "cell_type": "code",
   "execution_count": 18,
   "id": "43ae4525-48e4-4447-9b40-d9c8641ce1df",
   "metadata": {},
   "outputs": [
    {
     "name": "stdout",
     "output_type": "stream",
     "text": [
      "[20 19 18 17 16 15 14 13 12 11 10]\n"
     ]
    }
   ],
   "source": [
    "# Reverse the Vector above\n",
    "V3 = V2[::-1]\n",
    "print(V3)"
   ]
  },
  {
   "cell_type": "code",
   "execution_count": 174,
   "id": "9c74580b-3ee5-4b6c-afcd-b9fcc6d2d763",
   "metadata": {},
   "outputs": [
    {
     "name": "stdout",
     "output_type": "stream",
     "text": [
      "[0.04039565 0.06036297 0.10019378 0.1042726  0.34911077 0.35021059\n",
      " 0.42364649 0.44303201 0.4447893  0.44998696 0.47131859 0.47875823\n",
      " 0.57851849 0.583725   0.63386002 0.68298097 0.70612958 0.72860653\n",
      " 0.7514068  0.7597444  0.76007453 0.76043558 0.76184117 0.85261021\n",
      " 0.94002033 0.94630533 0.95638592 0.96079614 0.97551327 0.98355971]\n"
     ]
    },
    {
     "data": {
      "text/plain": [
       "0.6012863970130305"
      ]
     },
     "execution_count": 174,
     "metadata": {},
     "output_type": "execute_result"
    }
   ],
   "source": [
    "# Random Vector of size 30, sort it and find average\n",
    "V4 = np.random.random(30)\n",
    "V4.sort()\n",
    "print(V4)\n",
    "V4.mean()"
   ]
  },
  {
   "cell_type": "markdown",
   "id": "4dad94d3-94c0-4581-87a6-bd31ccd08bbc",
   "metadata": {},
   "source": [
    "### Pandas\n",
    "- Manipulate data in Python "
   ]
  },
  {
   "cell_type": "code",
   "execution_count": 180,
   "id": "7fb5eceb-ae13-4ae9-a61d-77fe841e890c",
   "metadata": {},
   "outputs": [
    {
     "data": {
      "text/plain": [
       "array(['Male', 'Male', 'Male', 'Male', 'Male', 'Male', 'Male', 'Male',\n",
       "       'Male', 'Male', 'Female', 'Female', 'Female', 'Female', 'Female',\n",
       "       'Female', 'Female', 'Female', 'Female', 'Female'], dtype='<U6')"
      ]
     },
     "execution_count": 180,
     "metadata": {},
     "output_type": "execute_result"
    }
   ],
   "source": [
    "# Create a data frame from a table\n",
    "# Create sex variable \n",
    "## Array to store sex values\n",
    "sex = np.array(['Male','Female'])\n",
    "# Repeat 10 times\n",
    "sex_vec = np.repeat(sex,10)\n",
    "sex_vec # Check"
   ]
  },
  {
   "cell_type": "code",
   "execution_count": 188,
   "id": "997f69d4-57cf-4f82-b7c3-e0937558dc50",
   "metadata": {},
   "outputs": [
    {
     "data": {
      "text/plain": [
       "array(['Electric', 'Electric', 'Electric', 'Electric', 'Electric', 'Nice',\n",
       "       'Nice', 'Nice', 'Nice', 'Nice', 'Electric', 'Electric', 'Electric',\n",
       "       'Electric', 'Electric', 'Nice', 'Nice', 'Nice', 'Nice', 'Nice'],\n",
       "      dtype='<U8')"
      ]
     },
     "execution_count": 188,
     "metadata": {},
     "output_type": "execute_result"
    }
   ],
   "source": [
    "# Create method variable\n",
    "## Array to store method values\n",
    "method = np.array(['Electric','Nice'])\n",
    "# Repeat 5 times \n",
    "method_v = np.repeat(method,5)\n",
    "method_v # Check\n",
    "## Repeat twice for both samples\n",
    "method_vec = np.tile(method_v,2)\n",
    "method_vec # Check"
   ]
  },
  {
   "cell_type": "code",
   "execution_count": 192,
   "id": "e89e36f3-090b-41e8-9c2b-ad1dedc41d98",
   "metadata": {},
   "outputs": [],
   "source": [
    "# Create score variable \n",
    "score = np.array([15,14,29,13,13,\n",
    "                  10,9,8,8,7,\n",
    "                  6,7,5,4,8,\n",
    "                  12,10,7,8,13])"
   ]
  },
  {
   "cell_type": "code",
   "execution_count": 194,
   "id": "b532f7ab-4e50-45de-b0eb-6399461b345a",
   "metadata": {},
   "outputs": [
    {
     "name": "stdout",
     "output_type": "stream",
     "text": [
      "       Sex    Method  Score\n",
      "0     Male  Electric     15\n",
      "1     Male  Electric     14\n",
      "2     Male  Electric     29\n",
      "3     Male  Electric     13\n",
      "4     Male  Electric     13\n",
      "5     Male      Nice     10\n",
      "6     Male      Nice      9\n",
      "7     Male      Nice      8\n",
      "8     Male      Nice      8\n",
      "9     Male      Nice      7\n",
      "10  Female  Electric      6\n",
      "11  Female  Electric      7\n",
      "12  Female  Electric      5\n",
      "13  Female  Electric      4\n",
      "14  Female  Electric      8\n",
      "15  Female      Nice     12\n",
      "16  Female      Nice     10\n",
      "17  Female      Nice      7\n",
      "18  Female      Nice      8\n",
      "19  Female      Nice     13\n"
     ]
    }
   ],
   "source": [
    "# Combine variables into data frame \n",
    "df_reinf = pd.DataFrame({'Sex': sex_vec, 'Method': method_vec, 'Score': score})\n",
    "print(df_reinf)"
   ]
  },
  {
   "cell_type": "markdown",
   "id": "23765aff-a461-4ccb-8fd5-e9e214ac3570",
   "metadata": {},
   "source": [
    "### Browse data with iloc and loc\n",
    "- iloc: position-based\n",
    "- loc: label-based"
   ]
  },
  {
   "cell_type": "code",
   "execution_count": 198,
   "id": "d651a5f7-3086-460f-8321-5485f9d98295",
   "metadata": {},
   "outputs": [
    {
     "data": {
      "text/html": [
       "<div>\n",
       "<style scoped>\n",
       "    .dataframe tbody tr th:only-of-type {\n",
       "        vertical-align: middle;\n",
       "    }\n",
       "\n",
       "    .dataframe tbody tr th {\n",
       "        vertical-align: top;\n",
       "    }\n",
       "\n",
       "    .dataframe thead th {\n",
       "        text-align: right;\n",
       "    }\n",
       "</style>\n",
       "<table border=\"1\" class=\"dataframe\">\n",
       "  <thead>\n",
       "    <tr style=\"text-align: right;\">\n",
       "      <th></th>\n",
       "      <th>Sex</th>\n",
       "      <th>Method</th>\n",
       "      <th>Score</th>\n",
       "    </tr>\n",
       "  </thead>\n",
       "  <tbody>\n",
       "    <tr>\n",
       "      <th>0</th>\n",
       "      <td>Male</td>\n",
       "      <td>Electric</td>\n",
       "      <td>15</td>\n",
       "    </tr>\n",
       "    <tr>\n",
       "      <th>1</th>\n",
       "      <td>Male</td>\n",
       "      <td>Electric</td>\n",
       "      <td>14</td>\n",
       "    </tr>\n",
       "    <tr>\n",
       "      <th>2</th>\n",
       "      <td>Male</td>\n",
       "      <td>Electric</td>\n",
       "      <td>29</td>\n",
       "    </tr>\n",
       "    <tr>\n",
       "      <th>3</th>\n",
       "      <td>Male</td>\n",
       "      <td>Electric</td>\n",
       "      <td>13</td>\n",
       "    </tr>\n",
       "    <tr>\n",
       "      <th>4</th>\n",
       "      <td>Male</td>\n",
       "      <td>Electric</td>\n",
       "      <td>13</td>\n",
       "    </tr>\n",
       "    <tr>\n",
       "      <th>5</th>\n",
       "      <td>Male</td>\n",
       "      <td>Nice</td>\n",
       "      <td>10</td>\n",
       "    </tr>\n",
       "    <tr>\n",
       "      <th>6</th>\n",
       "      <td>Male</td>\n",
       "      <td>Nice</td>\n",
       "      <td>9</td>\n",
       "    </tr>\n",
       "    <tr>\n",
       "      <th>7</th>\n",
       "      <td>Male</td>\n",
       "      <td>Nice</td>\n",
       "      <td>8</td>\n",
       "    </tr>\n",
       "    <tr>\n",
       "      <th>8</th>\n",
       "      <td>Male</td>\n",
       "      <td>Nice</td>\n",
       "      <td>8</td>\n",
       "    </tr>\n",
       "    <tr>\n",
       "      <th>9</th>\n",
       "      <td>Male</td>\n",
       "      <td>Nice</td>\n",
       "      <td>7</td>\n",
       "    </tr>\n",
       "  </tbody>\n",
       "</table>\n",
       "</div>"
      ],
      "text/plain": [
       "    Sex    Method  Score\n",
       "0  Male  Electric     15\n",
       "1  Male  Electric     14\n",
       "2  Male  Electric     29\n",
       "3  Male  Electric     13\n",
       "4  Male  Electric     13\n",
       "5  Male      Nice     10\n",
       "6  Male      Nice      9\n",
       "7  Male      Nice      8\n",
       "8  Male      Nice      8\n",
       "9  Male      Nice      7"
      ]
     },
     "execution_count": 198,
     "metadata": {},
     "output_type": "execute_result"
    }
   ],
   "source": [
    "# View the first 10 rows with iloc\n",
    "# iloc[rows,columns]\n",
    "df_reinf.iloc[0:10,:]\n"
   ]
  },
  {
   "cell_type": "code",
   "execution_count": 204,
   "id": "94087006-1189-4a3b-8e9b-82d78878bbc4",
   "metadata": {},
   "outputs": [
    {
     "data": {
      "text/html": [
       "<div>\n",
       "<style scoped>\n",
       "    .dataframe tbody tr th:only-of-type {\n",
       "        vertical-align: middle;\n",
       "    }\n",
       "\n",
       "    .dataframe tbody tr th {\n",
       "        vertical-align: top;\n",
       "    }\n",
       "\n",
       "    .dataframe thead th {\n",
       "        text-align: right;\n",
       "    }\n",
       "</style>\n",
       "<table border=\"1\" class=\"dataframe\">\n",
       "  <thead>\n",
       "    <tr style=\"text-align: right;\">\n",
       "      <th></th>\n",
       "      <th>Sex</th>\n",
       "      <th>Score</th>\n",
       "    </tr>\n",
       "  </thead>\n",
       "  <tbody>\n",
       "    <tr>\n",
       "      <th>10</th>\n",
       "      <td>Female</td>\n",
       "      <td>6</td>\n",
       "    </tr>\n",
       "    <tr>\n",
       "      <th>11</th>\n",
       "      <td>Female</td>\n",
       "      <td>7</td>\n",
       "    </tr>\n",
       "    <tr>\n",
       "      <th>12</th>\n",
       "      <td>Female</td>\n",
       "      <td>5</td>\n",
       "    </tr>\n",
       "    <tr>\n",
       "      <th>13</th>\n",
       "      <td>Female</td>\n",
       "      <td>4</td>\n",
       "    </tr>\n",
       "    <tr>\n",
       "      <th>14</th>\n",
       "      <td>Female</td>\n",
       "      <td>8</td>\n",
       "    </tr>\n",
       "    <tr>\n",
       "      <th>15</th>\n",
       "      <td>Female</td>\n",
       "      <td>12</td>\n",
       "    </tr>\n",
       "    <tr>\n",
       "      <th>16</th>\n",
       "      <td>Female</td>\n",
       "      <td>10</td>\n",
       "    </tr>\n",
       "    <tr>\n",
       "      <th>17</th>\n",
       "      <td>Female</td>\n",
       "      <td>7</td>\n",
       "    </tr>\n",
       "    <tr>\n",
       "      <th>18</th>\n",
       "      <td>Female</td>\n",
       "      <td>8</td>\n",
       "    </tr>\n",
       "    <tr>\n",
       "      <th>19</th>\n",
       "      <td>Female</td>\n",
       "      <td>13</td>\n",
       "    </tr>\n",
       "  </tbody>\n",
       "</table>\n",
       "</div>"
      ],
      "text/plain": [
       "       Sex  Score\n",
       "10  Female      6\n",
       "11  Female      7\n",
       "12  Female      5\n",
       "13  Female      4\n",
       "14  Female      8\n",
       "15  Female     12\n",
       "16  Female     10\n",
       "17  Female      7\n",
       "18  Female      8\n",
       "19  Female     13"
      ]
     },
     "execution_count": 204,
     "metadata": {},
     "output_type": "execute_result"
    }
   ],
   "source": [
    "# View last 10 rows for \"Sex\" and \"Score\" using loc\n",
    "df_reinf.loc[10:20,('Sex','Score')]"
   ]
  }
 ],
 "metadata": {
  "kernelspec": {
   "display_name": "Python 3 (ipykernel)",
   "language": "python",
   "name": "python3"
  },
  "language_info": {
   "codemirror_mode": {
    "name": "ipython",
    "version": 3
   },
   "file_extension": ".py",
   "mimetype": "text/x-python",
   "name": "python",
   "nbconvert_exporter": "python",
   "pygments_lexer": "ipython3",
   "version": "3.12.4"
  }
 },
 "nbformat": 4,
 "nbformat_minor": 5
}

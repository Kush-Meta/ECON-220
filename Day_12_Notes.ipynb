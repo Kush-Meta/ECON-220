{
 "cells": [
  {
   "cell_type": "markdown",
   "id": "c4e661e0-92dc-43cc-9845-95d1a6f31219",
   "metadata": {},
   "source": [
    "# Day 12: Hypothesis Testing\n",
    "## Author: Kush Mehta"
   ]
  },
  {
   "cell_type": "code",
   "execution_count": 2,
   "id": "d397f5aa-1513-44f2-ac55-7f5b50b610e3",
   "metadata": {},
   "outputs": [
    {
     "name": "stdout",
     "output_type": "stream",
     "text": [
      "/Users/kush/Python\n"
     ]
    }
   ],
   "source": [
    "# Find working directory on your local computer; yours will be different from mine\n",
    "import os\n",
    "path = os.getcwd()\n",
    "print(path)"
   ]
  },
  {
   "cell_type": "code",
   "execution_count": 4,
   "id": "09a4c20f-c152-48ab-b40e-3b971bd9bde0",
   "metadata": {},
   "outputs": [],
   "source": [
    "# Import necessary packages\n",
    "import numpy as np\n",
    "import pandas as pd\n",
    "import seaborn as sns\n",
    "import scipy.stats as stats\n",
    "import matplotlib.pyplot as plt\n",
    "from scipy.stats import ttest_ind\n",
    "from statsmodels.stats.proportion import proportions_ztest"
   ]
  },
  {
   "cell_type": "code",
   "execution_count": 6,
   "id": "2a24785f-6a2b-49e0-815e-4dc116cdf5a8",
   "metadata": {},
   "outputs": [],
   "source": [
    "# Import Data\n",
    "birth = pd.read_csv(\"/Users/kush/Data/BirthdataNC.csv\")"
   ]
  },
  {
   "cell_type": "code",
   "execution_count": 13,
   "id": "d0ae4dcd-6d41-4acc-8c9b-d53bd3e2643c",
   "metadata": {},
   "outputs": [
    {
     "name": "stdout",
     "output_type": "stream",
     "text": [
      "<class 'pandas.core.frame.DataFrame'>\n",
      "RangeIndex: 1000 entries, 0 to 999\n",
      "Data columns (total 13 columns):\n",
      " #   Column          Non-Null Count  Dtype  \n",
      "---  ------          --------------  -----  \n",
      " 0   fage            829 non-null    float64\n",
      " 1   mage            1000 non-null   int64  \n",
      " 2   mature          1000 non-null   object \n",
      " 3   weeks           998 non-null    float64\n",
      " 4   premie          998 non-null    object \n",
      " 5   visits          991 non-null    float64\n",
      " 6   marital         999 non-null    object \n",
      " 7   gained          973 non-null    float64\n",
      " 8   weight          1000 non-null   float64\n",
      " 9   lowbirthweight  1000 non-null   object \n",
      " 10  gender          1000 non-null   object \n",
      " 11  habit           999 non-null    object \n",
      " 12  whitemom        998 non-null    object \n",
      "dtypes: float64(5), int64(1), object(7)\n",
      "memory usage: 101.7+ KB\n"
     ]
    }
   ],
   "source": [
    "# Data's information\n",
    "birth.info()"
   ]
  },
  {
   "cell_type": "markdown",
   "id": "525ce3ee-684d-4794-96f2-82c9a9d4fc42",
   "metadata": {},
   "source": [
    "## Hypothesis Testing for Difference in Means "
   ]
  },
  {
   "cell_type": "code",
   "execution_count": 16,
   "id": "31496c3d-aa6c-4f57-8353-34754a92e634",
   "metadata": {},
   "outputs": [],
   "source": [
    "# Create 2 samples by gender to test for difference in weight\n",
    "female = birth[birth['gender']=='female']['weight']\n",
    "male = birth[birth['gender']=='male']['weight']"
   ]
  },
  {
   "cell_type": "code",
   "execution_count": 20,
   "id": "5cb0d74c-e89d-401d-b8b9-98566def6fa1",
   "metadata": {},
   "outputs": [
    {
     "data": {
      "text/plain": [
       "TtestResult(statistic=-4.211995513148301, pvalue=2.760111651635877e-05, df=998.0)"
      ]
     },
     "execution_count": 20,
     "metadata": {},
     "output_type": "execute_result"
    }
   ],
   "source": [
    "# Test for difference in means\n",
    "ttest_ind(female,male)"
   ]
  },
  {
   "cell_type": "code",
   "execution_count": 24,
   "id": "2601b0a1-a147-4e27-b8bf-750410ab2716",
   "metadata": {},
   "outputs": [
    {
     "name": "stdout",
     "output_type": "stream",
     "text": [
      "test-stat:  -4.212\n",
      "p-value:  0.0\n"
     ]
    }
   ],
   "source": [
    "# Round the result\n",
    "test_gen = ttest_ind(female,male)\n",
    "print('test-stat: ',round(test_gen[0], 4))\n",
    "print('p-value: ',round(test_gen[1], 4))"
   ]
  },
  {
   "cell_type": "code",
   "execution_count": 26,
   "id": "d1aab9af-7af4-4128-a06f-af1d6e662914",
   "metadata": {},
   "outputs": [],
   "source": [
    "# Statistically significant at the 5% level of significance: reject the null hypothesis\n",
    "# There is evidence that there is difference in weights between boys and girls"
   ]
  },
  {
   "cell_type": "code",
   "execution_count": 30,
   "id": "67c69ba7-d1b3-4187-a839-57acc0a97d59",
   "metadata": {},
   "outputs": [
    {
     "name": "stdout",
     "output_type": "stream",
     "text": [
      "test-stat:  -4.212\n",
      "p-value:  0.0\n"
     ]
    }
   ],
   "source": [
    "# Lower-tailed test\n",
    "test_gen = ttest_ind(female,male,alternative='less')\n",
    "print('test-stat: ',round(test_gen[0], 4))\n",
    "print('p-value: ',round(test_gen[1], 4))"
   ]
  },
  {
   "cell_type": "code",
   "execution_count": 32,
   "id": "b6ae0e68-102d-45fc-aca0-ba0a2186d3f8",
   "metadata": {},
   "outputs": [],
   "source": [
    "# Statistically significant at the 5% level: reject null\n",
    "# There is evidence that the girls weigh less than the boys at average"
   ]
  },
  {
   "cell_type": "code",
   "execution_count": 34,
   "id": "f458e36c-6b82-4980-941b-8c5cf6d0dc7b",
   "metadata": {},
   "outputs": [
    {
     "name": "stdout",
     "output_type": "stream",
     "text": [
      "test-stat:  -4.212\n",
      "p-value:  1.0\n"
     ]
    }
   ],
   "source": [
    "# Upper-tailed test\n",
    "test_gen = ttest_ind(female,male,alternative='greater')\n",
    "print('test-stat: ',round(test_gen[0], 4))\n",
    "print('p-value: ',round(test_gen[1], 4))"
   ]
  },
  {
   "cell_type": "code",
   "execution_count": 36,
   "id": "b00eb665-fe8e-4ab5-9cf8-8156b47dda4a",
   "metadata": {},
   "outputs": [],
   "source": [
    "# Not statistically significant at 5% level: fail to reject null\n",
    "# There is no evidence that girls weigh more than boys on average"
   ]
  },
  {
   "cell_type": "code",
   "execution_count": 38,
   "id": "c6afe4b1-5132-4a82-93d1-f128401351bf",
   "metadata": {},
   "outputs": [],
   "source": [
    "# Test for difference in weight between babies born to smokers versus non-smokers\n",
    "smoker = birth[birth['habit']=='smoker']['weight']\n",
    "nonsmoker = birth[birth['habit']=='nonsmoker']['weight']"
   ]
  },
  {
   "cell_type": "code",
   "execution_count": 40,
   "id": "09b5f81a-f529-475e-ae8e-c9d8585d0ae1",
   "metadata": {},
   "outputs": [
    {
     "name": "stdout",
     "output_type": "stream",
     "text": [
      "test-stat:  -2.2034\n",
      "p-value:  0.0278\n"
     ]
    }
   ],
   "source": [
    "#Test\n",
    "test_habit = ttest_ind(smoker,nonsmoker)\n",
    "print('test-stat: ',round(test_habit[0], 4))\n",
    "print('p-value: ',round(test_habit[1], 4))"
   ]
  },
  {
   "cell_type": "code",
   "execution_count": 42,
   "id": "5e7ee074-b599-43d5-adc0-bc862bf9879e",
   "metadata": {},
   "outputs": [],
   "source": [
    "# Statistically significant at 5% level: reject null\n",
    "# There is evidence of difference in weight between babies born to smokers and non-smokers"
   ]
  },
  {
   "cell_type": "markdown",
   "id": "0634776a-49b3-4ab4-825d-f2eddb9d48fb",
   "metadata": {},
   "source": [
    "## Hypothesis Testing for Difference in Proportions"
   ]
  },
  {
   "cell_type": "code",
   "execution_count": 45,
   "id": "dd3933f6-185c-46b0-a779-c519424c5ff1",
   "metadata": {},
   "outputs": [
    {
     "data": {
      "text/html": [
       "<div>\n",
       "<style scoped>\n",
       "    .dataframe tbody tr th:only-of-type {\n",
       "        vertical-align: middle;\n",
       "    }\n",
       "\n",
       "    .dataframe tbody tr th {\n",
       "        vertical-align: top;\n",
       "    }\n",
       "\n",
       "    .dataframe thead th {\n",
       "        text-align: right;\n",
       "    }\n",
       "</style>\n",
       "<table border=\"1\" class=\"dataframe\">\n",
       "  <thead>\n",
       "    <tr style=\"text-align: right;\">\n",
       "      <th>lowbirthweight</th>\n",
       "      <th>low</th>\n",
       "      <th>not low</th>\n",
       "      <th>All</th>\n",
       "    </tr>\n",
       "    <tr>\n",
       "      <th>gender</th>\n",
       "      <th></th>\n",
       "      <th></th>\n",
       "      <th></th>\n",
       "    </tr>\n",
       "  </thead>\n",
       "  <tbody>\n",
       "    <tr>\n",
       "      <th>female</th>\n",
       "      <td>59</td>\n",
       "      <td>444</td>\n",
       "      <td>503</td>\n",
       "    </tr>\n",
       "    <tr>\n",
       "      <th>male</th>\n",
       "      <td>52</td>\n",
       "      <td>445</td>\n",
       "      <td>497</td>\n",
       "    </tr>\n",
       "    <tr>\n",
       "      <th>All</th>\n",
       "      <td>111</td>\n",
       "      <td>889</td>\n",
       "      <td>1000</td>\n",
       "    </tr>\n",
       "  </tbody>\n",
       "</table>\n",
       "</div>"
      ],
      "text/plain": [
       "lowbirthweight  low  not low   All\n",
       "gender                            \n",
       "female           59      444   503\n",
       "male             52      445   497\n",
       "All             111      889  1000"
      ]
     },
     "execution_count": 45,
     "metadata": {},
     "output_type": "execute_result"
    }
   ],
   "source": [
    "# Distribution of weights by gender\n",
    "pd.crosstab(birth['gender'],birth['lowbirthweight'],margins=True)"
   ]
  },
  {
   "cell_type": "code",
   "execution_count": 47,
   "id": "e9f0edb4-56a4-4c80-8088-074c10ea900a",
   "metadata": {},
   "outputs": [
    {
     "name": "stdout",
     "output_type": "stream",
     "text": [
      "test_stat:  0.6376\n",
      "p-value:  0.5237\n"
     ]
    }
   ],
   "source": [
    "# Test for difference in proportions\n",
    "test_pro_gen = proportions_ztest([59,52],[503,497])\n",
    "print('test_stat: ', round(test_pro_gen[0], 4))\n",
    "print('p-value: ', round(test_pro_gen[1], 4))"
   ]
  },
  {
   "cell_type": "code",
   "execution_count": 49,
   "id": "f1101f9d-385f-4e9b-95db-1b172bdc4eba",
   "metadata": {},
   "outputs": [],
   "source": [
    "# Not statistically significant at 5% level: fail to reject null\n",
    "# No evidence of difference in proportion of babies with low birth weight between female and male body populations"
   ]
  },
  {
   "cell_type": "code",
   "execution_count": 51,
   "id": "68d0c9bb-f6ef-4a7f-8efb-9c58aeda8f1b",
   "metadata": {},
   "outputs": [
    {
     "name": "stdout",
     "output_type": "stream",
     "text": [
      "test_stat:  0.6376\n",
      "p-value:  0.7381\n"
     ]
    }
   ],
   "source": [
    "# Lower tailed test\n",
    "test_pro_gen = proportions_ztest([59,52],[503,497], alternative='smaller')\n",
    "print('test_stat: ', round(test_pro_gen[0], 4))\n",
    "print('p-value: ', round(test_pro_gen[1], 4))"
   ]
  },
  {
   "cell_type": "code",
   "execution_count": 2,
   "id": "c3a8e4a5-2144-4f30-8790-77f3b3b5c945",
   "metadata": {},
   "outputs": [],
   "source": [
    "# Not statistically significant at 5% level: fail to reject null\n",
    "# No evidence that the proportion of girls with low birth weight is less than that of boys in population"
   ]
  },
  {
   "cell_type": "code",
   "execution_count": 55,
   "id": "4a77be35-273c-45fa-9199-1b9bf466f990",
   "metadata": {},
   "outputs": [
    {
     "name": "stdout",
     "output_type": "stream",
     "text": [
      "test_stat:  0.6376\n",
      "p-value:  0.2619\n"
     ]
    }
   ],
   "source": [
    "# Upper tailed test\n",
    "test_pro_gen = proportions_ztest([59,52],[503,497], alternative='larger')\n",
    "print('test_stat: ', round(test_pro_gen[0], 4))\n",
    "print('p-value: ', round(test_pro_gen[1], 4))"
   ]
  },
  {
   "cell_type": "code",
   "execution_count": 57,
   "id": "2d51b5b8-5448-499d-b955-a97093cd28c3",
   "metadata": {},
   "outputs": [],
   "source": [
    "# Not statistically significant at 5% level: fail to reject null\n",
    "# No evidence that the proportion of girls with low birth weight is less than that of boys in population"
   ]
  },
  {
   "cell_type": "code",
   "execution_count": 61,
   "id": "15c15cdb-28b7-40c1-aa5b-aca3c4441227",
   "metadata": {},
   "outputs": [
    {
     "data": {
      "text/html": [
       "<div>\n",
       "<style scoped>\n",
       "    .dataframe tbody tr th:only-of-type {\n",
       "        vertical-align: middle;\n",
       "    }\n",
       "\n",
       "    .dataframe tbody tr th {\n",
       "        vertical-align: top;\n",
       "    }\n",
       "\n",
       "    .dataframe thead th {\n",
       "        text-align: right;\n",
       "    }\n",
       "</style>\n",
       "<table border=\"1\" class=\"dataframe\">\n",
       "  <thead>\n",
       "    <tr style=\"text-align: right;\">\n",
       "      <th>lowbirthweight</th>\n",
       "      <th>low</th>\n",
       "      <th>not low</th>\n",
       "      <th>All</th>\n",
       "    </tr>\n",
       "    <tr>\n",
       "      <th>habit</th>\n",
       "      <th></th>\n",
       "      <th></th>\n",
       "      <th></th>\n",
       "    </tr>\n",
       "  </thead>\n",
       "  <tbody>\n",
       "    <tr>\n",
       "      <th>nonsmoker</th>\n",
       "      <td>92</td>\n",
       "      <td>781</td>\n",
       "      <td>873</td>\n",
       "    </tr>\n",
       "    <tr>\n",
       "      <th>smoker</th>\n",
       "      <td>18</td>\n",
       "      <td>108</td>\n",
       "      <td>126</td>\n",
       "    </tr>\n",
       "    <tr>\n",
       "      <th>All</th>\n",
       "      <td>110</td>\n",
       "      <td>889</td>\n",
       "      <td>999</td>\n",
       "    </tr>\n",
       "  </tbody>\n",
       "</table>\n",
       "</div>"
      ],
      "text/plain": [
       "lowbirthweight  low  not low  All\n",
       "habit                            \n",
       "nonsmoker        92      781  873\n",
       "smoker           18      108  126\n",
       "All             110      889  999"
      ]
     },
     "execution_count": 61,
     "metadata": {},
     "output_type": "execute_result"
    }
   ],
   "source": [
    "# Test for difference in proportions of babies with low birth weight by mom's habit: smoker vs nonsmoker\n",
    "pd.crosstab(birth['habit'],birth['lowbirthweight'],margins=True)"
   ]
  },
  {
   "cell_type": "code",
   "execution_count": 63,
   "id": "99ff7bb8-aff9-4375-ae75-c7a6f3bc2af6",
   "metadata": {},
   "outputs": [
    {
     "name": "stdout",
     "output_type": "stream",
     "text": [
      "test_stat:  -1.2562\n",
      "p-value:  0.2091\n"
     ]
    }
   ],
   "source": [
    "# Test for difference in proportions\n",
    "test_pro_habit = proportions_ztest([92,18],[873,126])\n",
    "print('test_stat: ', round(test_pro_habit[0], 4))\n",
    "print('p-value: ', round(test_pro_habit[1], 4))"
   ]
  },
  {
   "cell_type": "code",
   "execution_count": 4,
   "id": "c889487b-c305-47b4-bd44-8123c2725277",
   "metadata": {},
   "outputs": [],
   "source": [
    "# Not statistically significant at 5% level: fail to reject null\n",
    "# No evidence that the proportion of babies with low birth weight based population"
   ]
  }
 ],
 "metadata": {
  "kernelspec": {
   "display_name": "Python 3 (ipykernel)",
   "language": "python",
   "name": "python3"
  },
  "language_info": {
   "codemirror_mode": {
    "name": "ipython",
    "version": 3
   },
   "file_extension": ".py",
   "mimetype": "text/x-python",
   "name": "python",
   "nbconvert_exporter": "python",
   "pygments_lexer": "ipython3",
   "version": "3.12.4"
  }
 },
 "nbformat": 4,
 "nbformat_minor": 5
}

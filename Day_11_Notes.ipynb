{
 "cells": [
  {
   "cell_type": "markdown",
   "id": "a1d08249-31e2-418c-ad8a-9da97e4fa810",
   "metadata": {},
   "source": [
    "# Day 11: Lambda Expression\n",
    "## Author: Kush Mehta"
   ]
  },
  {
   "cell_type": "code",
   "execution_count": 3,
   "id": "e07b26ca-259a-43d5-85c4-12cec34d8320",
   "metadata": {},
   "outputs": [
    {
     "name": "stdout",
     "output_type": "stream",
     "text": [
      "/Users/kush/Python\n"
     ]
    }
   ],
   "source": [
    "# Find working directory on your local computer; yours will be different from mine\n",
    "import os\n",
    "path = os.getcwd()\n",
    "print(path)"
   ]
  },
  {
   "cell_type": "code",
   "execution_count": 5,
   "id": "ad3d8b9f-030d-420d-a0d5-659bf934b9e4",
   "metadata": {},
   "outputs": [],
   "source": [
    "# Import necessary packages\n",
    "import pandas as pd"
   ]
  },
  {
   "cell_type": "code",
   "execution_count": 11,
   "id": "f8a028b8-ef30-4d97-a210-4b8322d383eb",
   "metadata": {},
   "outputs": [],
   "source": [
    "# Import Data\n",
    "birth = pd.read_csv(\"/Users/kush/Data/BirthdataNC.csv\")"
   ]
  },
  {
   "cell_type": "markdown",
   "id": "61a71f1e-eaf4-4a54-b98a-fc7ef3f1ab44",
   "metadata": {},
   "source": [
    "## Function vs. lambda Expressions"
   ]
  },
  {
   "cell_type": "code",
   "execution_count": 15,
   "id": "534ab030-d1d8-41fa-8f33-560c93b59db3",
   "metadata": {},
   "outputs": [
    {
     "data": {
      "text/plain": [
       "1418"
      ]
     },
     "execution_count": 15,
     "metadata": {},
     "output_type": "execute_result"
    }
   ],
   "source": [
    "# Function to add numbers\n",
    "def add(a,b):\n",
    "    return a+b\n",
    "add(513,905)"
   ]
  },
  {
   "cell_type": "code",
   "execution_count": 17,
   "id": "cb95b39e-7128-43ce-805e-d7d2f8fbedc4",
   "metadata": {},
   "outputs": [
    {
     "data": {
      "text/plain": [
       "775"
      ]
     },
     "execution_count": 17,
     "metadata": {},
     "output_type": "execute_result"
    }
   ],
   "source": [
    "# Lambda to add numbers\n",
    "add_lam = lambda a,b: a+b\n",
    "add_lam(533,242)"
   ]
  },
  {
   "cell_type": "code",
   "execution_count": 19,
   "id": "0860a527-a7cd-4115-ab52-1d722f28e962",
   "metadata": {},
   "outputs": [
    {
     "data": {
      "text/plain": [
       "248832"
      ]
     },
     "execution_count": 19,
     "metadata": {},
     "output_type": "execute_result"
    }
   ],
   "source": [
    "# Raise a number to a power \n",
    "x_power_y = lambda x, y:x**y\n",
    "x_power_y(12,5)"
   ]
  },
  {
   "cell_type": "code",
   "execution_count": 25,
   "id": "f4e8e2b9-9c48-43f8-845f-2be75be159d0",
   "metadata": {},
   "outputs": [
    {
     "name": "stdout",
     "output_type": "stream",
     "text": [
      "[2, 4, 6]\n"
     ]
    }
   ],
   "source": [
    "# Lambda with lists\n",
    "num = [1,2,3,4,5,6]\n",
    "#Filter even numbers \n",
    "even_num = list(filter(lambda x: x%2 == 0, num))\n",
    "print(even_num)"
   ]
  },
  {
   "cell_type": "code",
   "execution_count": 29,
   "id": "7573a79f-d35a-4d2d-be7e-c98d390b2624",
   "metadata": {},
   "outputs": [
    {
     "name": "stdout",
     "output_type": "stream",
     "text": [
      "[1, 3, 5]\n"
     ]
    }
   ],
   "source": [
    "#Filter odd numbers\n",
    "odd_num = list(filter(lambda x: x%2 == 1, num))\n",
    "print(odd_num)"
   ]
  },
  {
   "cell_type": "code",
   "execution_count": 35,
   "id": "3b7f56e9-84cf-45e4-8f52-1b052f15ca20",
   "metadata": {},
   "outputs": [
    {
     "name": "stdout",
     "output_type": "stream",
     "text": [
      "[5, 7, 9]\n"
     ]
    }
   ],
   "source": [
    "# Add two lists\n",
    "num1 = [1,2,3]\n",
    "num2 = [4,5,6]\n",
    "# Add them\n",
    "total = map(lambda x,y: x+y, num1,num2)\n",
    "print(list(total))"
   ]
  },
  {
   "cell_type": "code",
   "execution_count": 37,
   "id": "a7df66df-00e4-4c21-aa94-4d239a2b9ad9",
   "metadata": {},
   "outputs": [
    {
     "name": "stdout",
     "output_type": "stream",
     "text": [
      "[16, 25, 4, 81]\n"
     ]
    }
   ],
   "source": [
    "# Square a list\n",
    "num = [4,5,2,9]\n",
    "square = map(lambda x: x**2, num)\n",
    "print(list(square))"
   ]
  },
  {
   "cell_type": "code",
   "execution_count": 41,
   "id": "a2c791bd-2a6a-4946-b7aa-0010a2e46816",
   "metadata": {},
   "outputs": [
    {
     "data": {
      "text/plain": [
       "'Ho Ho Ho '"
      ]
     },
     "execution_count": 41,
     "metadata": {},
     "output_type": "execute_result"
    }
   ],
   "source": [
    "# lambda with Strings\n",
    "rep_word = lambda word, repeat:word*repeat\n",
    "santa = rep_word('Ho ',3)\n",
    "santa"
   ]
  },
  {
   "cell_type": "markdown",
   "id": "0a8b13e0-1b42-4d27-ba22-ef9e6298acf6",
   "metadata": {},
   "source": [
    "## Use lambda with Birth Data"
   ]
  },
  {
   "cell_type": "code",
   "execution_count": 48,
   "id": "b56b9700-063d-483f-aad0-e408a5240bd9",
   "metadata": {},
   "outputs": [
    {
     "data": {
      "text/html": [
       "<div>\n",
       "<style scoped>\n",
       "    .dataframe tbody tr th:only-of-type {\n",
       "        vertical-align: middle;\n",
       "    }\n",
       "\n",
       "    .dataframe tbody tr th {\n",
       "        vertical-align: top;\n",
       "    }\n",
       "\n",
       "    .dataframe thead th {\n",
       "        text-align: right;\n",
       "    }\n",
       "</style>\n",
       "<table border=\"1\" class=\"dataframe\">\n",
       "  <thead>\n",
       "    <tr style=\"text-align: right;\">\n",
       "      <th></th>\n",
       "      <th>fage</th>\n",
       "      <th>mage</th>\n",
       "      <th>mature</th>\n",
       "      <th>weeks</th>\n",
       "      <th>premie</th>\n",
       "      <th>visits</th>\n",
       "      <th>marital</th>\n",
       "      <th>gained</th>\n",
       "      <th>weight</th>\n",
       "      <th>lowbirthweight</th>\n",
       "      <th>gender</th>\n",
       "      <th>habit</th>\n",
       "      <th>whitemom</th>\n",
       "    </tr>\n",
       "  </thead>\n",
       "  <tbody>\n",
       "    <tr>\n",
       "      <th>0</th>\n",
       "      <td>NaN</td>\n",
       "      <td>13</td>\n",
       "      <td>younger mom</td>\n",
       "      <td>39.0</td>\n",
       "      <td>full term</td>\n",
       "      <td>10.0</td>\n",
       "      <td>married</td>\n",
       "      <td>38.0</td>\n",
       "      <td>7.63</td>\n",
       "      <td>not low</td>\n",
       "      <td>male</td>\n",
       "      <td>nonsmoker</td>\n",
       "      <td>not white</td>\n",
       "    </tr>\n",
       "    <tr>\n",
       "      <th>1</th>\n",
       "      <td>NaN</td>\n",
       "      <td>14</td>\n",
       "      <td>younger mom</td>\n",
       "      <td>42.0</td>\n",
       "      <td>full term</td>\n",
       "      <td>15.0</td>\n",
       "      <td>married</td>\n",
       "      <td>20.0</td>\n",
       "      <td>7.88</td>\n",
       "      <td>not low</td>\n",
       "      <td>male</td>\n",
       "      <td>nonsmoker</td>\n",
       "      <td>not white</td>\n",
       "    </tr>\n",
       "    <tr>\n",
       "      <th>2</th>\n",
       "      <td>19.0</td>\n",
       "      <td>15</td>\n",
       "      <td>younger mom</td>\n",
       "      <td>37.0</td>\n",
       "      <td>full term</td>\n",
       "      <td>11.0</td>\n",
       "      <td>married</td>\n",
       "      <td>38.0</td>\n",
       "      <td>6.63</td>\n",
       "      <td>not low</td>\n",
       "      <td>female</td>\n",
       "      <td>nonsmoker</td>\n",
       "      <td>white</td>\n",
       "    </tr>\n",
       "    <tr>\n",
       "      <th>3</th>\n",
       "      <td>21.0</td>\n",
       "      <td>15</td>\n",
       "      <td>younger mom</td>\n",
       "      <td>41.0</td>\n",
       "      <td>full term</td>\n",
       "      <td>6.0</td>\n",
       "      <td>married</td>\n",
       "      <td>34.0</td>\n",
       "      <td>8.00</td>\n",
       "      <td>not low</td>\n",
       "      <td>male</td>\n",
       "      <td>nonsmoker</td>\n",
       "      <td>white</td>\n",
       "    </tr>\n",
       "    <tr>\n",
       "      <th>4</th>\n",
       "      <td>NaN</td>\n",
       "      <td>15</td>\n",
       "      <td>younger mom</td>\n",
       "      <td>39.0</td>\n",
       "      <td>full term</td>\n",
       "      <td>9.0</td>\n",
       "      <td>married</td>\n",
       "      <td>27.0</td>\n",
       "      <td>6.38</td>\n",
       "      <td>not low</td>\n",
       "      <td>female</td>\n",
       "      <td>nonsmoker</td>\n",
       "      <td>not white</td>\n",
       "    </tr>\n",
       "  </tbody>\n",
       "</table>\n",
       "</div>"
      ],
      "text/plain": [
       "   fage  mage       mature  weeks     premie  visits  marital  gained  weight  \\\n",
       "0   NaN    13  younger mom   39.0  full term    10.0  married    38.0    7.63   \n",
       "1   NaN    14  younger mom   42.0  full term    15.0  married    20.0    7.88   \n",
       "2  19.0    15  younger mom   37.0  full term    11.0  married    38.0    6.63   \n",
       "3  21.0    15  younger mom   41.0  full term     6.0  married    34.0    8.00   \n",
       "4   NaN    15  younger mom   39.0  full term     9.0  married    27.0    6.38   \n",
       "\n",
       "  lowbirthweight  gender      habit   whitemom  \n",
       "0        not low    male  nonsmoker  not white  \n",
       "1        not low    male  nonsmoker  not white  \n",
       "2        not low  female  nonsmoker      white  \n",
       "3        not low    male  nonsmoker      white  \n",
       "4        not low  female  nonsmoker  not white  "
      ]
     },
     "execution_count": 48,
     "metadata": {},
     "output_type": "execute_result"
    }
   ],
   "source": [
    "birth.head()"
   ]
  },
  {
   "cell_type": "code",
   "execution_count": 56,
   "id": "8a56b0bf-8403-487c-9e11-7375ef629987",
   "metadata": {},
   "outputs": [
    {
     "data": {
      "text/html": [
       "<div>\n",
       "<style scoped>\n",
       "    .dataframe tbody tr th:only-of-type {\n",
       "        vertical-align: middle;\n",
       "    }\n",
       "\n",
       "    .dataframe tbody tr th {\n",
       "        vertical-align: top;\n",
       "    }\n",
       "\n",
       "    .dataframe thead th {\n",
       "        text-align: right;\n",
       "    }\n",
       "</style>\n",
       "<table border=\"1\" class=\"dataframe\">\n",
       "  <thead>\n",
       "    <tr style=\"text-align: right;\">\n",
       "      <th></th>\n",
       "      <th>fage</th>\n",
       "      <th>mage</th>\n",
       "      <th>mature</th>\n",
       "      <th>weeks</th>\n",
       "      <th>premie</th>\n",
       "      <th>visits</th>\n",
       "      <th>marital</th>\n",
       "      <th>gained</th>\n",
       "      <th>weight</th>\n",
       "      <th>lowbirthweight</th>\n",
       "      <th>gender</th>\n",
       "      <th>habit</th>\n",
       "      <th>whitemom</th>\n",
       "    </tr>\n",
       "  </thead>\n",
       "  <tbody>\n",
       "    <tr>\n",
       "      <th>0</th>\n",
       "      <td>NaN</td>\n",
       "      <td>13</td>\n",
       "      <td>younger mom</td>\n",
       "      <td>39.0</td>\n",
       "      <td>full term</td>\n",
       "      <td>10.0</td>\n",
       "      <td>married</td>\n",
       "      <td>38.0</td>\n",
       "      <td>7.63</td>\n",
       "      <td>not low</td>\n",
       "      <td>male</td>\n",
       "      <td>nonsmoker</td>\n",
       "      <td>not white</td>\n",
       "    </tr>\n",
       "    <tr>\n",
       "      <th>1</th>\n",
       "      <td>NaN</td>\n",
       "      <td>14</td>\n",
       "      <td>younger mom</td>\n",
       "      <td>42.0</td>\n",
       "      <td>full term</td>\n",
       "      <td>15.0</td>\n",
       "      <td>married</td>\n",
       "      <td>20.0</td>\n",
       "      <td>7.88</td>\n",
       "      <td>not low</td>\n",
       "      <td>male</td>\n",
       "      <td>nonsmoker</td>\n",
       "      <td>not white</td>\n",
       "    </tr>\n",
       "    <tr>\n",
       "      <th>2</th>\n",
       "      <td>19.0</td>\n",
       "      <td>15</td>\n",
       "      <td>younger mom</td>\n",
       "      <td>37.0</td>\n",
       "      <td>full term</td>\n",
       "      <td>11.0</td>\n",
       "      <td>married</td>\n",
       "      <td>38.0</td>\n",
       "      <td>6.63</td>\n",
       "      <td>not low</td>\n",
       "      <td>female</td>\n",
       "      <td>nonsmoker</td>\n",
       "      <td>white</td>\n",
       "    </tr>\n",
       "    <tr>\n",
       "      <th>3</th>\n",
       "      <td>21.0</td>\n",
       "      <td>15</td>\n",
       "      <td>younger mom</td>\n",
       "      <td>41.0</td>\n",
       "      <td>full term</td>\n",
       "      <td>6.0</td>\n",
       "      <td>married</td>\n",
       "      <td>34.0</td>\n",
       "      <td>8.00</td>\n",
       "      <td>not low</td>\n",
       "      <td>male</td>\n",
       "      <td>nonsmoker</td>\n",
       "      <td>white</td>\n",
       "    </tr>\n",
       "    <tr>\n",
       "      <th>4</th>\n",
       "      <td>NaN</td>\n",
       "      <td>15</td>\n",
       "      <td>younger mom</td>\n",
       "      <td>39.0</td>\n",
       "      <td>full term</td>\n",
       "      <td>9.0</td>\n",
       "      <td>married</td>\n",
       "      <td>27.0</td>\n",
       "      <td>6.38</td>\n",
       "      <td>not low</td>\n",
       "      <td>female</td>\n",
       "      <td>nonsmoker</td>\n",
       "      <td>not white</td>\n",
       "    </tr>\n",
       "    <tr>\n",
       "      <th>...</th>\n",
       "      <td>...</td>\n",
       "      <td>...</td>\n",
       "      <td>...</td>\n",
       "      <td>...</td>\n",
       "      <td>...</td>\n",
       "      <td>...</td>\n",
       "      <td>...</td>\n",
       "      <td>...</td>\n",
       "      <td>...</td>\n",
       "      <td>...</td>\n",
       "      <td>...</td>\n",
       "      <td>...</td>\n",
       "      <td>...</td>\n",
       "    </tr>\n",
       "    <tr>\n",
       "      <th>995</th>\n",
       "      <td>47.0</td>\n",
       "      <td>42</td>\n",
       "      <td>mature mom</td>\n",
       "      <td>40.0</td>\n",
       "      <td>full term</td>\n",
       "      <td>10.0</td>\n",
       "      <td>not married</td>\n",
       "      <td>26.0</td>\n",
       "      <td>8.44</td>\n",
       "      <td>not low</td>\n",
       "      <td>male</td>\n",
       "      <td>nonsmoker</td>\n",
       "      <td>not white</td>\n",
       "    </tr>\n",
       "    <tr>\n",
       "      <th>996</th>\n",
       "      <td>34.0</td>\n",
       "      <td>42</td>\n",
       "      <td>mature mom</td>\n",
       "      <td>38.0</td>\n",
       "      <td>full term</td>\n",
       "      <td>18.0</td>\n",
       "      <td>not married</td>\n",
       "      <td>20.0</td>\n",
       "      <td>6.19</td>\n",
       "      <td>not low</td>\n",
       "      <td>female</td>\n",
       "      <td>nonsmoker</td>\n",
       "      <td>white</td>\n",
       "    </tr>\n",
       "    <tr>\n",
       "      <th>997</th>\n",
       "      <td>39.0</td>\n",
       "      <td>45</td>\n",
       "      <td>mature mom</td>\n",
       "      <td>40.0</td>\n",
       "      <td>full term</td>\n",
       "      <td>15.0</td>\n",
       "      <td>not married</td>\n",
       "      <td>32.0</td>\n",
       "      <td>6.94</td>\n",
       "      <td>not low</td>\n",
       "      <td>female</td>\n",
       "      <td>nonsmoker</td>\n",
       "      <td>white</td>\n",
       "    </tr>\n",
       "    <tr>\n",
       "      <th>998</th>\n",
       "      <td>55.0</td>\n",
       "      <td>46</td>\n",
       "      <td>mature mom</td>\n",
       "      <td>31.0</td>\n",
       "      <td>premie</td>\n",
       "      <td>8.0</td>\n",
       "      <td>not married</td>\n",
       "      <td>25.0</td>\n",
       "      <td>4.56</td>\n",
       "      <td>low</td>\n",
       "      <td>female</td>\n",
       "      <td>nonsmoker</td>\n",
       "      <td>not white</td>\n",
       "    </tr>\n",
       "    <tr>\n",
       "      <th>999</th>\n",
       "      <td>45.0</td>\n",
       "      <td>50</td>\n",
       "      <td>mature mom</td>\n",
       "      <td>39.0</td>\n",
       "      <td>full term</td>\n",
       "      <td>14.0</td>\n",
       "      <td>not married</td>\n",
       "      <td>23.0</td>\n",
       "      <td>7.13</td>\n",
       "      <td>not low</td>\n",
       "      <td>female</td>\n",
       "      <td>nonsmoker</td>\n",
       "      <td>white</td>\n",
       "    </tr>\n",
       "  </tbody>\n",
       "</table>\n",
       "<p>873 rows × 13 columns</p>\n",
       "</div>"
      ],
      "text/plain": [
       "     fage  mage       mature  weeks     premie  visits      marital  gained  \\\n",
       "0     NaN    13  younger mom   39.0  full term    10.0      married    38.0   \n",
       "1     NaN    14  younger mom   42.0  full term    15.0      married    20.0   \n",
       "2    19.0    15  younger mom   37.0  full term    11.0      married    38.0   \n",
       "3    21.0    15  younger mom   41.0  full term     6.0      married    34.0   \n",
       "4     NaN    15  younger mom   39.0  full term     9.0      married    27.0   \n",
       "..    ...   ...          ...    ...        ...     ...          ...     ...   \n",
       "995  47.0    42   mature mom   40.0  full term    10.0  not married    26.0   \n",
       "996  34.0    42   mature mom   38.0  full term    18.0  not married    20.0   \n",
       "997  39.0    45   mature mom   40.0  full term    15.0  not married    32.0   \n",
       "998  55.0    46   mature mom   31.0     premie     8.0  not married    25.0   \n",
       "999  45.0    50   mature mom   39.0  full term    14.0  not married    23.0   \n",
       "\n",
       "     weight lowbirthweight  gender      habit   whitemom  \n",
       "0      7.63        not low    male  nonsmoker  not white  \n",
       "1      7.88        not low    male  nonsmoker  not white  \n",
       "2      6.63        not low  female  nonsmoker      white  \n",
       "3      8.00        not low    male  nonsmoker      white  \n",
       "4      6.38        not low  female  nonsmoker  not white  \n",
       "..      ...            ...     ...        ...        ...  \n",
       "995    8.44        not low    male  nonsmoker  not white  \n",
       "996    6.19        not low  female  nonsmoker      white  \n",
       "997    6.94        not low  female  nonsmoker      white  \n",
       "998    4.56            low  female  nonsmoker  not white  \n",
       "999    7.13        not low  female  nonsmoker      white  \n",
       "\n",
       "[873 rows x 13 columns]"
      ]
     },
     "execution_count": 56,
     "metadata": {},
     "output_type": "execute_result"
    }
   ],
   "source": [
    "# Split babies' weights into 2 groups: born to smokers vs non smokers\n",
    "smoker = birth[birth['habit'] == 'smoker']\n",
    "nonsmoker = birth[birth['habit'] == 'nonsmoker']\n",
    "smoker\n",
    "nonsmoker"
   ]
  },
  {
   "cell_type": "code",
   "execution_count": 60,
   "id": "9957dc17-e961-4d0f-9af9-032bdd9b0920",
   "metadata": {},
   "outputs": [
    {
     "data": {
      "text/plain": [
       "habit\n",
       "nonsmoker    [7.63, 7.88, 6.63, 8.0, 6.38, 5.38, 8.44, 4.69...\n",
       "smoker       [7.56, 6.88, 5.81, 7.44, 7.06, 8.06, 7.44, 7.8...\n",
       "Name: weight, dtype: object"
      ]
     },
     "execution_count": 60,
     "metadata": {},
     "output_type": "execute_result"
    }
   ],
   "source": [
    "# Use lambda to split babies' weights: born to smokers vs nonsmokers\n",
    "split_smoke = birth.groupby('habit')['weight']\n",
    "# Convert into list\n",
    "split_smoke = split_smoke.apply(lambda x: list(x))\n",
    "split_smoke"
   ]
  },
  {
   "cell_type": "code",
   "execution_count": 66,
   "id": "2519342a-69d8-464c-8253-16de7732da00",
   "metadata": {},
   "outputs": [
    {
     "data": {
      "text/plain": [
       "habit\n",
       "nonsmoker    [7.63, 7.88, 6.63, 8.0, 6.38, 5.38, 8.44, 4.69...\n",
       "smoker       [7.56, 6.88, 5.81, 7.44, 7.06, 8.06, 7.44, 7.8...\n",
       "Name: weight, dtype: object"
      ]
     },
     "execution_count": 66,
     "metadata": {},
     "output_type": "execute_result"
    }
   ],
   "source": [
    "# Write above into just one line\n",
    "split_smoke = birth.groupby('habit')['weight'].apply(lambda x:list(x))\n",
    "split_smoke"
   ]
  },
  {
   "cell_type": "code",
   "execution_count": 68,
   "id": "41e22c0b-ee51-467c-9461-f00b324562dd",
   "metadata": {},
   "outputs": [
    {
     "data": {
      "text/plain": [
       "gender\n",
       "female    [6.63, 6.38, 6.94, 8.81, 6.0, 7.13, 7.56, 5.81...\n",
       "male      [7.63, 7.88, 8.0, 5.38, 8.44, 4.69, 8.81, 7.44...\n",
       "Name: weight, dtype: object"
      ]
     },
     "execution_count": 68,
     "metadata": {},
     "output_type": "execute_result"
    }
   ],
   "source": [
    "# Split babies' weights into male and female\n",
    "split_gender = birth.groupby('gender')['weight'].apply(lambda x:list(x))\n",
    "split_gender"
   ]
  },
  {
   "cell_type": "code",
   "execution_count": null,
   "id": "04049ac6-545b-43b0-a51d-799d08ac633b",
   "metadata": {},
   "outputs": [],
   "source": []
  }
 ],
 "metadata": {
  "kernelspec": {
   "display_name": "Python 3 (ipykernel)",
   "language": "python",
   "name": "python3"
  },
  "language_info": {
   "codemirror_mode": {
    "name": "ipython",
    "version": 3
   },
   "file_extension": ".py",
   "mimetype": "text/x-python",
   "name": "python",
   "nbconvert_exporter": "python",
   "pygments_lexer": "ipython3",
   "version": "3.12.4"
  }
 },
 "nbformat": 4,
 "nbformat_minor": 5
}

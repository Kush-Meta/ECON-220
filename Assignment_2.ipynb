{
 "cells": [
  {
   "cell_type": "markdown",
   "metadata": {},
   "source": [
    "# Assignment 2: Data Cleaning\n",
    "## Author: Kush!"
   ]
  },
  {
   "cell_type": "code",
   "execution_count": 2,
   "metadata": {},
   "outputs": [
    {
     "name": "stdout",
     "output_type": "stream",
     "text": [
      "/Users/kush/Python\n"
     ]
    }
   ],
   "source": [
    "# Find working directory\n",
    "import os\n",
    "path = os.getcwd()\n",
    "print(path)"
   ]
  },
  {
   "cell_type": "code",
   "execution_count": 4,
   "metadata": {},
   "outputs": [],
   "source": [
    "# Import necessary packages: pandas\n",
    "import pandas as pd\n",
    "# Remove scientific notations:\n",
    "pd.options.display.float_format = '{:.4f}'.format\n",
    "# Remove unncessary warnings from Pandas on this particular assignment\n",
    "pd.options.mode.chained_assignment = None"
   ]
  },
  {
   "cell_type": "markdown",
   "metadata": {},
   "source": [
    "## Import Data Set\n",
    "- Import the data set \"StudentSurvey.csv\" from Canvas and call this object \"data\""
   ]
  },
  {
   "cell_type": "code",
   "execution_count": 6,
   "metadata": {},
   "outputs": [
    {
     "data": {
      "text/html": [
       "<div>\n",
       "<style scoped>\n",
       "    .dataframe tbody tr th:only-of-type {\n",
       "        vertical-align: middle;\n",
       "    }\n",
       "\n",
       "    .dataframe tbody tr th {\n",
       "        vertical-align: top;\n",
       "    }\n",
       "\n",
       "    .dataframe thead th {\n",
       "        text-align: right;\n",
       "    }\n",
       "</style>\n",
       "<table border=\"1\" class=\"dataframe\">\n",
       "  <thead>\n",
       "    <tr style=\"text-align: right;\">\n",
       "      <th></th>\n",
       "      <th>year</th>\n",
       "      <th>sex</th>\n",
       "      <th>gender_ident</th>\n",
       "      <th>age</th>\n",
       "      <th>Ethnicity</th>\n",
       "      <th>Country</th>\n",
       "      <th>State</th>\n",
       "      <th>GPA</th>\n",
       "      <th>SAT</th>\n",
       "      <th>HSGPA</th>\n",
       "      <th>...</th>\n",
       "      <th>q67</th>\n",
       "      <th>q68</th>\n",
       "      <th>q69</th>\n",
       "      <th>q70</th>\n",
       "      <th>q71</th>\n",
       "      <th>q72</th>\n",
       "      <th>q73</th>\n",
       "      <th>q74</th>\n",
       "      <th>q75</th>\n",
       "      <th>q76</th>\n",
       "    </tr>\n",
       "  </thead>\n",
       "  <tbody>\n",
       "    <tr>\n",
       "      <th>0</th>\n",
       "      <td>5</td>\n",
       "      <td>Male</td>\n",
       "      <td>Male</td>\n",
       "      <td>22</td>\n",
       "      <td>More than one race.</td>\n",
       "      <td>Costa Rica</td>\n",
       "      <td>INT</td>\n",
       "      <td>3.5</td>\n",
       "      <td>31</td>\n",
       "      <td>3.49</td>\n",
       "      <td>...</td>\n",
       "      <td>Yes</td>\n",
       "      <td>10000</td>\n",
       "      <td>25.0000</td>\n",
       "      <td>3.0000</td>\n",
       "      <td>0.0000</td>\n",
       "      <td>Off</td>\n",
       "      <td>3</td>\n",
       "      <td>4</td>\n",
       "      <td>20</td>\n",
       "      <td>9.0000</td>\n",
       "    </tr>\n",
       "    <tr>\n",
       "      <th>1</th>\n",
       "      <td>5</td>\n",
       "      <td>Male</td>\n",
       "      <td>Male</td>\n",
       "      <td>22</td>\n",
       "      <td>More than one race.</td>\n",
       "      <td>United States</td>\n",
       "      <td>WASHINGTON</td>\n",
       "      <td>3.35</td>\n",
       "      <td>1340</td>\n",
       "      <td>3.9</td>\n",
       "      <td>...</td>\n",
       "      <td>Yes</td>\n",
       "      <td>20000</td>\n",
       "      <td>12.0000</td>\n",
       "      <td>2.0000</td>\n",
       "      <td>12000.0000</td>\n",
       "      <td>On</td>\n",
       "      <td>7</td>\n",
       "      <td>3</td>\n",
       "      <td>12</td>\n",
       "      <td>10.0000</td>\n",
       "    </tr>\n",
       "    <tr>\n",
       "      <th>2</th>\n",
       "      <td>Senior</td>\n",
       "      <td>Male</td>\n",
       "      <td>Male</td>\n",
       "      <td>22</td>\n",
       "      <td>Asian</td>\n",
       "      <td>India</td>\n",
       "      <td>Maharashtra</td>\n",
       "      <td>3.3</td>\n",
       "      <td>1400</td>\n",
       "      <td>3.3</td>\n",
       "      <td>...</td>\n",
       "      <td>Yes</td>\n",
       "      <td>$5,000</td>\n",
       "      <td>6.0000</td>\n",
       "      <td>3.0000</td>\n",
       "      <td>0.0000</td>\n",
       "      <td>Off</td>\n",
       "      <td>1</td>\n",
       "      <td>2</td>\n",
       "      <td>2 /month\\n\\n8</td>\n",
       "      <td>7.0000</td>\n",
       "    </tr>\n",
       "    <tr>\n",
       "      <th>3</th>\n",
       "      <td>4</td>\n",
       "      <td>Female</td>\n",
       "      <td>Female</td>\n",
       "      <td>21</td>\n",
       "      <td>Asian</td>\n",
       "      <td>United States</td>\n",
       "      <td>Georgia</td>\n",
       "      <td>3.6</td>\n",
       "      <td>1540</td>\n",
       "      <td>4</td>\n",
       "      <td>...</td>\n",
       "      <td>Yes</td>\n",
       "      <td>2000</td>\n",
       "      <td>2.0000</td>\n",
       "      <td>2.0000</td>\n",
       "      <td>10000.0000</td>\n",
       "      <td>Off</td>\n",
       "      <td>7</td>\n",
       "      <td>1</td>\n",
       "      <td>2</td>\n",
       "      <td>1.0000</td>\n",
       "    </tr>\n",
       "    <tr>\n",
       "      <th>4</th>\n",
       "      <td>3</td>\n",
       "      <td>Male</td>\n",
       "      <td>Male</td>\n",
       "      <td>23</td>\n",
       "      <td>Asian</td>\n",
       "      <td>Korea</td>\n",
       "      <td>INT</td>\n",
       "      <td>3.5</td>\n",
       "      <td>1360</td>\n",
       "      <td>3.7</td>\n",
       "      <td>...</td>\n",
       "      <td>Yes</td>\n",
       "      <td>20000</td>\n",
       "      <td>16.0000</td>\n",
       "      <td>3.0000</td>\n",
       "      <td>0.0000</td>\n",
       "      <td>Off</td>\n",
       "      <td>0</td>\n",
       "      <td>0</td>\n",
       "      <td>10</td>\n",
       "      <td>5.0000</td>\n",
       "    </tr>\n",
       "  </tbody>\n",
       "</table>\n",
       "<p>5 rows × 76 columns</p>\n",
       "</div>"
      ],
      "text/plain": [
       "     year     sex gender_ident  age            Ethnicity        Country  \\\n",
       "0       5    Male         Male   22  More than one race.     Costa Rica   \n",
       "1       5    Male         Male   22  More than one race.  United States   \n",
       "2  Senior    Male         Male  22                 Asian          India   \n",
       "3       4  Female       Female   21                Asian  United States   \n",
       "4       3    Male         Male   23                Asian          Korea   \n",
       "\n",
       "         State   GPA   SAT HSGPA  ...  q67      q68     q69    q70        q71  \\\n",
       "0          INT   3.5    31  3.49  ...  Yes    10000 25.0000 3.0000     0.0000   \n",
       "1   WASHINGTON  3.35  1340   3.9  ...  Yes    20000 12.0000 2.0000 12000.0000   \n",
       "2  Maharashtra   3.3  1400   3.3  ...  Yes  $5,000   6.0000 3.0000     0.0000   \n",
       "3     Georgia    3.6  1540     4  ...  Yes     2000  2.0000 2.0000 10000.0000   \n",
       "4          INT   3.5  1360   3.7  ...  Yes    20000 16.0000 3.0000     0.0000   \n",
       "\n",
       "   q72  q73  q74            q75     q76  \n",
       "0  Off    3    4             20  9.0000  \n",
       "1   On    7    3             12 10.0000  \n",
       "2  Off    1    2  2 /month\\n\\n8  7.0000  \n",
       "3  Off    7    1              2  1.0000  \n",
       "4  Off    0    0             10  5.0000  \n",
       "\n",
       "[5 rows x 76 columns]"
      ]
     },
     "execution_count": 6,
     "metadata": {},
     "output_type": "execute_result"
    }
   ],
   "source": [
    "# Import data\n",
    "data = pd.read_csv(\"/Users/kush/Data/StudentSurvey.csv\")\n",
    "# Check data's information\n",
    "data.head()"
   ]
  },
  {
   "cell_type": "markdown",
   "metadata": {},
   "source": [
    "## Data Cleaning and Summary Statistics\n",
    "- Create a new object **survey** by selecting/filtering the variables that you see below:\n",
    " * sex\n",
    " * q37: Hours spent at office hours a week\n",
    " * q50: Number of books read in a semester\n",
    " * q58: Expected salary after graduation\n",
    "- Clean the variables \n",
    "- Show the summary statistics of the variables"
   ]
  },
  {
   "cell_type": "code",
   "execution_count": 8,
   "metadata": {},
   "outputs": [
    {
     "name": "stdout",
     "output_type": "stream",
     "text": [
      "       year     sex gender_ident  age            Ethnicity        Country  \\\n",
      "0         5    Male         Male   22  More than one race.     Costa Rica   \n",
      "1         5    Male         Male   22  More than one race.  United States   \n",
      "2    Senior    Male         Male  22                 Asian          India   \n",
      "3         4  Female       Female   21                Asian  United States   \n",
      "4         3    Male         Male   23                Asian          Korea   \n",
      "..      ...     ...          ...  ...                  ...            ...   \n",
      "96     2023  Female       Female   20                Asian          China   \n",
      "97     2023    Male         Male   21                Asian          China   \n",
      "98        1  Female       Female   19                Asian          China   \n",
      "99        3    Male         Male   21                Asian          China   \n",
      "100    2023    Male         Male   20                Asian  United States   \n",
      "\n",
      "             State   GPA   SAT HSGPA  ...  q67      q68     q69    q70  \\\n",
      "0              INT   3.5    31  3.49  ...  Yes    10000 25.0000 3.0000   \n",
      "1       WASHINGTON  3.35  1340   3.9  ...  Yes    20000 12.0000 2.0000   \n",
      "2      Maharashtra   3.3  1400   3.3  ...  Yes  $5,000   6.0000 3.0000   \n",
      "3         Georgia    3.6  1540     4  ...  Yes     2000  2.0000 2.0000   \n",
      "4              INT   3.5  1360   3.7  ...  Yes    20000 16.0000 3.0000   \n",
      "..             ...   ...   ...   ...  ...  ...      ...     ...    ...   \n",
      "96             INT   3.6  1520   3.9  ...   No        0 10.0000 3.0000   \n",
      "97              MD  3.78  1450  3.59  ...  Yes    80000  9.0000 2.0000   \n",
      "98             INT     4  1440     4  ...  Yes    45000  7.0000 2.0000   \n",
      "99          Shanxi  3.95  1430   3.9  ...  Yes     5000  2.0000 2.0000   \n",
      "100  Massachusetts   3.8  1420  3.72  ...  Yes     8000  1.0000 3.0000   \n",
      "\n",
      "           q71  q72  q73  q74            q75     q76  \n",
      "0       0.0000  Off    3    4             20  9.0000  \n",
      "1   12000.0000   On    7    3             12 10.0000  \n",
      "2       0.0000  Off    1    2  2 /month\\n\\n8  7.0000  \n",
      "3   10000.0000  Off    7    1              2  1.0000  \n",
      "4       0.0000  Off    0    0             10  5.0000  \n",
      "..         ...  ...  ...  ...            ...     ...  \n",
      "96      0.0000  Off    1    0              2  8.0000  \n",
      "97      0.0000  Off    2    0              1  7.0000  \n",
      "98      0.0000  Off    0    0              2  8.0000  \n",
      "99      0.0000  Off    3    7              1  1.0000  \n",
      "100 10000.0000   On    0    0              1  9.0000  \n",
      "\n",
      "[101 rows x 76 columns]\n"
     ]
    }
   ],
   "source": [
    "# Create a data frame called \"survey\" to store the selected variables \n",
    "survey = pd.DataFrame(data)\n",
    "# Browse some observations of the data frame \"survey\"\n",
    "print(survey)"
   ]
  },
  {
   "cell_type": "markdown",
   "metadata": {},
   "source": [
    "### Data Cleaning "
   ]
  },
  {
   "cell_type": "code",
   "execution_count": 16,
   "metadata": {},
   "outputs": [
    {
     "data": {
      "text/plain": [
       "q37\n",
       "1      34\n",
       "0      29\n",
       "2      20\n",
       "3       7\n",
       "4       3\n",
       "1.5     2\n",
       "0.5     2\n",
       "5       1\n",
       "2.5     1\n",
       "NaN     1\n",
       "0.4     1\n",
       "Name: count, dtype: int64"
      ]
     },
     "execution_count": 16,
     "metadata": {},
     "output_type": "execute_result"
    }
   ],
   "source": [
    "### Clean variable \"q37\": Hours spent at office hours a week\n",
    "# by replacing some observations\n",
    "# Inspect\n",
    "data['q37'].value_counts(dropna=False)\n",
    "# Clean\n",
    "data['q37'] = data['q37'].replace('2 hours','2')\n",
    "data['q37'] = data['q37'].replace('1 hour','1')\n",
    "# Check\n",
    "data['q37'].value_counts(dropna = False)"
   ]
  },
  {
   "cell_type": "code",
   "execution_count": 18,
   "metadata": {},
   "outputs": [
    {
     "data": {
      "text/plain": [
       "dtype('float64')"
      ]
     },
     "execution_count": 18,
     "metadata": {},
     "output_type": "execute_result"
    }
   ],
   "source": [
    "# Convert \"q37\" from string to float\n",
    "data['q37'] = data['q37'].astype('float')\n",
    "data['q37'].dtypes"
   ]
  },
  {
   "cell_type": "code",
   "execution_count": 22,
   "metadata": {},
   "outputs": [
    {
     "data": {
      "text/plain": [
       "q50\n",
       "2      22\n",
       "3      17\n",
       "5      16\n",
       "4      12\n",
       "0      10\n",
       "1       9\n",
       "6       2\n",
       "8       2\n",
       "30      2\n",
       "20      2\n",
       "10      2\n",
       "25      1\n",
       "15      1\n",
       "7       1\n",
       "NaN     1\n",
       "9       1\n",
       "Name: count, dtype: int64"
      ]
     },
     "execution_count": 22,
     "metadata": {},
     "output_type": "execute_result"
    }
   ],
   "source": [
    "### Clean variable \"q50\": Number of books read in a semester\"\n",
    "# by dropping any strange observation\n",
    "# Inspect\n",
    "data['q50'].value_counts(dropna=False)\n",
    "# Clean\n",
    "data['q50'] = data['q50'].replace('2-Jan','2')\n",
    "# Check\n",
    "data['q50'].value_counts(dropna=False)"
   ]
  },
  {
   "cell_type": "code",
   "execution_count": 24,
   "metadata": {},
   "outputs": [
    {
     "data": {
      "text/plain": [
       "dtype('float64')"
      ]
     },
     "execution_count": 24,
     "metadata": {},
     "output_type": "execute_result"
    }
   ],
   "source": [
    "# Convert \"q50\" from string to float\n",
    "data['q50'] = data['q50'].astype('float')\n",
    "data['q50'].dtypes"
   ]
  },
  {
   "cell_type": "code",
   "execution_count": 62,
   "metadata": {},
   "outputs": [
    {
     "data": {
      "text/plain": [
       "q58\n",
       "50000     15\n",
       "70000     12\n",
       "100000    12\n",
       "75000      9\n",
       "60000      7\n",
       "0          6\n",
       "20000      4\n",
       "80000      4\n",
       "90000      3\n",
       "30000      3\n",
       "120000     3\n",
       "150000     2\n",
       "10000      2\n",
       "40000      2\n",
       "85000      2\n",
       "77255      1\n",
       "130000     1\n",
       "4000       1\n",
       "8000       1\n",
       "56000      1\n",
       "65000      1\n",
       "77500      1\n",
       "22000      1\n",
       "57000      1\n",
       "110000     1\n",
       "140000     1\n",
       "18000      1\n",
       "7000       1\n",
       "Name: count, dtype: int64"
      ]
     },
     "execution_count": 62,
     "metadata": {},
     "output_type": "execute_result"
    }
   ],
   "source": [
    "# Clean variable \"q58\": Expected salaries after graduation\n",
    "# Inspect\n",
    "data['q58'].value_counts(dropna=False)\n",
    "# Hint: remove potential spaces\n",
    "data['q58'] = data['q58'].replace(' ','',regex = True)\n",
    "# Keep cleaning\n",
    "data['q58'] = data['q58'].replace(',','',regex = True)\n",
    "# Replace some observations\n",
    "data['q58'] = data['q58'].replace('-','0',regex = True)\n",
    "# Drop some observations\n",
    "data['q58'] = data['q58'].astype(str).str.strip()\n",
    "strange = data[data['q58']==\"NOIDEA\"]\n",
    "data = data.drop(strange.index)\n",
    "strange = data[data['q58']==\"nan\"]\n",
    "data = data.drop(strange.index)\n",
    "# Check\n",
    "data['q58'].value_counts(dropna=False)"
   ]
  },
  {
   "cell_type": "code",
   "execution_count": 64,
   "metadata": {},
   "outputs": [
    {
     "data": {
      "text/plain": [
       "dtype('float64')"
      ]
     },
     "execution_count": 64,
     "metadata": {},
     "output_type": "execute_result"
    }
   ],
   "source": [
    "# Convert \"q58\" from string to float\n",
    "data['q58'] = data['q58'].astype('float')\n",
    "data['q58'].dtypes"
   ]
  },
  {
   "cell_type": "code",
   "execution_count": 70,
   "metadata": {},
   "outputs": [],
   "source": [
    "# Convert \"sex\" into a categorical variable\n",
    "data['sex'] = data['sex'].astype('category')"
   ]
  },
  {
   "cell_type": "markdown",
   "metadata": {},
   "source": [
    "## Adding Variables\n",
    "Create a few new variables and incorporate them into your dataframe. \n",
    "- \"office_dweller\" variable to indicate if a person spends **2 hours or more** at office hours per week\n",
    "- \"book_lover\" variable to indicate if a person reads **more than 2 books** a semester"
   ]
  },
  {
   "cell_type": "code",
   "execution_count": 74,
   "metadata": {},
   "outputs": [],
   "source": [
    "# Create variable \"office_dweller\"\n",
    "import numpy as np\n",
    "data['office_dweller'] = np.where(data['q37'] >= 2, 'Yes', 'No')\n",
    "# Create variable \"book_lover\"\n",
    "data['book_lover'] = np.where(data['q50'] > 2, 'Yes', 'No')\n",
    "# Convert them to integers\n",
    "data['office_dweller'] = np.where(data['office_dweller'] == 'Yes', 1, 0)\n",
    "data['book_lover'] = np.where(data['book_lover'] == 'Yes', 1, 0)"
   ]
  },
  {
   "cell_type": "markdown",
   "metadata": {},
   "source": [
    "### Variabe Renaming\n",
    "- Rename these variables so that it is easier for readers to understand the summary statistics:\n",
    " * q37 $\\rightarrow$ office_hrs\n",
    " * q50 $\\rightarrow$ books\n",
    " * q58 $\\rightarrow$ exp_salaries\n",
    "- Hint: search Google and Stack Overflow on how to perform this"
   ]
  },
  {
   "cell_type": "code",
   "execution_count": 76,
   "metadata": {},
   "outputs": [],
   "source": [
    "# Rename variables\n",
    "# Rename variables using .rename() function\n",
    "data = data.rename(columns={\n",
    "    'q37': 'office_hrs',       # Rename q37 to office_hrs\n",
    "    'q50': 'books',            # Rename q50 to books\n",
    "    'q58': 'exp_salaries'      # Rename q58 to exp_salaries\n",
    "})"
   ]
  },
  {
   "cell_type": "markdown",
   "metadata": {},
   "source": [
    "## Summary Statistics\n",
    "Provide summary statistics (mean, standard deviation, min, max, count) for \"office_hrs\", \"books\", \"exp_salaries\", \"office_dweller\", and \"book_lover\""
   ]
  },
  {
   "cell_type": "code",
   "execution_count": 80,
   "metadata": {},
   "outputs": [
    {
     "name": "stdout",
     "output_type": "stream",
     "text": [
      "       office_hrs   books  exp_salaries  office_dweller  book_lover\n",
      "mean       1.2010  4.3737    64108.6364          0.3232      0.5859\n",
      "std        1.1001  5.4578    34643.1924          0.4701      0.4951\n",
      "min        0.0000  0.0000        0.0000          0.0000      0.0000\n",
      "max        5.0000 30.0000   150000.0000          1.0000      1.0000\n",
      "count     99.0000 99.0000       99.0000         99.0000     99.0000\n"
     ]
    }
   ],
   "source": [
    "# Use the function .agg() to do this\n",
    "summary_stats = data[['office_hrs', 'books', 'exp_salaries', 'office_dweller', 'book_lover']].agg(['mean', 'std', 'min', 'max', 'count'])\n",
    "print(summary_stats)"
   ]
  },
  {
   "cell_type": "markdown",
   "metadata": {},
   "source": [
    "## Expected Salaries by Group\n",
    "Now let's look at how expected salaries after graduation differ by male and female."
   ]
  },
  {
   "cell_type": "code",
   "execution_count": 90,
   "metadata": {},
   "outputs": [
    {
     "name": "stdout",
     "output_type": "stream",
     "text": [
      "             mean\n",
      "sex              \n",
      "Female 56916.6667\n",
      "Male   69407.9825\n"
     ]
    }
   ],
   "source": [
    "# Use the .groupby() and .agg() method to split the sample by sex\n",
    "# and provide the mean for the expected salaries\n",
    "mean_exp_salaries_by_sex = data.groupby('sex', observed = False)['exp_salaries'].agg(['mean'])\n",
    "print(mean_exp_salaries_by_sex)"
   ]
  }
 ],
 "metadata": {
  "hide_input": false,
  "kernelspec": {
   "display_name": "Python 3 (ipykernel)",
   "language": "python",
   "name": "python3"
  },
  "language_info": {
   "codemirror_mode": {
    "name": "ipython",
    "version": 3
   },
   "file_extension": ".py",
   "mimetype": "text/x-python",
   "name": "python",
   "nbconvert_exporter": "python",
   "pygments_lexer": "ipython3",
   "version": "3.12.4"
  },
  "toc": {
   "base_numbering": 1,
   "nav_menu": {},
   "number_sections": false,
   "sideBar": true,
   "skip_h1_title": false,
   "title_cell": "Table of Contents",
   "title_sidebar": "Contents",
   "toc_cell": false,
   "toc_position": {},
   "toc_section_display": true,
   "toc_window_display": false
  }
 },
 "nbformat": 4,
 "nbformat_minor": 4
}

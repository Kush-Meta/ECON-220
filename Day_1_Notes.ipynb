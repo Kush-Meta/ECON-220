{
 "cells": [
  {
   "cell_type": "markdown",
   "id": "84b60576-c972-487c-b814-92ea4284f5eb",
   "metadata": {},
   "source": [
    "# My First Jupyter Notebook\n",
    "## Author: Kush Mehta\n",
    "### hg"
   ]
  },
  {
   "cell_type": "code",
   "execution_count": null,
   "id": "33d23c37-e0fd-4801-815c-94df81e93fe4",
   "metadata": {},
   "outputs": [],
   "source": [
    "#Insert cell abover: Esc + A"
   ]
  },
  {
   "cell_type": "code",
   "execution_count": 12,
   "id": "c06976dd-714c-40f6-aa81-e2a2557a3455",
   "metadata": {},
   "outputs": [
    {
     "data": {
      "text/plain": [
       "5452"
      ]
     },
     "execution_count": 12,
     "metadata": {},
     "output_type": "execute_result"
    }
   ],
   "source": [
    "# This is a comment \n",
    "### This is addition \n",
    "3659 + 1793"
   ]
  },
  {
   "cell_type": "code",
   "execution_count": 6,
   "id": "9849ee61-1871-42f7-b5b3-2b2b57165623",
   "metadata": {},
   "outputs": [
    {
     "name": "stdout",
     "output_type": "stream",
     "text": [
      "Hello World\n"
     ]
    }
   ],
   "source": [
    "print('Hello World')"
   ]
  },
  {
   "cell_type": "code",
   "execution_count": 18,
   "id": "cdd8393d-9593-4031-863a-c970b75f7985",
   "metadata": {},
   "outputs": [
    {
     "data": {
      "text/plain": [
       "8.101123595505618"
      ]
     },
     "execution_count": 18,
     "metadata": {},
     "output_type": "execute_result"
    }
   ],
   "source": [
    "721/89"
   ]
  },
  {
   "cell_type": "code",
   "execution_count": 23,
   "id": "dcc93da6-9179-4454-bf54-eb03115a5185",
   "metadata": {
    "scrolled": true
   },
   "outputs": [
    {
     "name": "stdout",
     "output_type": "stream",
     "text": [
      "32\n"
     ]
    }
   ],
   "source": [
    "#Create an object\n",
    "x = 4\n",
    "y = 8\n",
    "z = x*y\n",
    "print(z)"
   ]
  },
  {
   "cell_type": "code",
   "execution_count": 33,
   "id": "c5e6bb10-dbe3-4dea-900c-f137762636c4",
   "metadata": {},
   "outputs": [
    {
     "name": "stdout",
     "output_type": "stream",
     "text": [
      "14190\n",
      "85140\n"
     ]
    }
   ],
   "source": [
    "#Combination and Permutation\n",
    "#Import math package\n",
    "import math \n",
    "# Number of total objects\n",
    "n = 45\n",
    "# Number of objects to choose\n",
    "k = 3\n",
    "# Combination \n",
    "comb = math.comb(n,k)\n",
    "print(comb)\n",
    "# Permutation \n",
    "perm = math.perm(n,k)\n",
    "print(perm)"
   ]
  },
  {
   "cell_type": "code",
   "execution_count": 43,
   "id": "b68bd561-4e81-476f-983a-f47ace272175",
   "metadata": {},
   "outputs": [
    {
     "name": "stdin",
     "output_type": "stream",
     "text": [
      "Please enter your name:  Kush\n"
     ]
    },
    {
     "name": "stdout",
     "output_type": "stream",
     "text": [
      "Hello: Kush!\n"
     ]
    },
    {
     "name": "stdin",
     "output_type": "stream",
     "text": [
      "Now tell me your birthday (MM-DD-YYYY):  09-09-2004\n"
     ]
    },
    {
     "name": "stdout",
     "output_type": "stream",
     "text": [
      "Your birthday was on a Thursday!\n"
     ]
    }
   ],
   "source": [
    "# Birthday Program \n",
    "# Object to store your name \n",
    "name = input('Please enter your name: ')\n",
    "\n",
    "# Machine's response \n",
    "print('Hello: ' + name + '!')\n",
    "\n",
    "# Object to store your birthday \n",
    "answer = input('Now tell me your birthday (MM-DD-YYYY): ')\n",
    "\n",
    "# import datetime package\n",
    "from datetime import datetime\n",
    "\n",
    "# Convert birthday to datetime format\n",
    "birthday = datetime.strptime(answer, '%m-%d-%Y')\n",
    "\n",
    "# Process birthday to provide day of the week\n",
    "print ('Your birthday was on a '+ birthday.strftime('%A') + '!')"
   ]
  },
  {
   "cell_type": "code",
   "execution_count": null,
   "id": "e5b5b897-94e1-43f8-948e-5e61e2f7beb6",
   "metadata": {},
   "outputs": [],
   "source": []
  }
 ],
 "metadata": {
  "kernelspec": {
   "display_name": "Python 3 (ipykernel)",
   "language": "python",
   "name": "python3"
  },
  "language_info": {
   "codemirror_mode": {
    "name": "ipython",
    "version": 3
   },
   "file_extension": ".py",
   "mimetype": "text/x-python",
   "name": "python",
   "nbconvert_exporter": "python",
   "pygments_lexer": "ipython3",
   "version": "3.12.4"
  }
 },
 "nbformat": 4,
 "nbformat_minor": 5
}
